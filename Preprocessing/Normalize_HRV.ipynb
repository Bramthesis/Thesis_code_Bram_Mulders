{
 "cells": [
  {
   "cell_type": "code",
   "execution_count": 2,
   "id": "1b31ada3-2a93-4b45-94df-2e4502e86a38",
   "metadata": {},
   "outputs": [
    {
     "name": "stdout",
     "output_type": "stream",
     "text": [
      "   ID    Phase  HRV_minmax\n",
      "0   5  Phase 1    0.185893\n",
      "1   5  Phase 2    0.130812\n",
      "2   6  Phase 1    0.128734\n",
      "3   6  Phase 2    0.082135\n",
      "4   7  Phase 1    0.891783\n"
     ]
    }
   ],
   "source": [
    "import pandas as pd\n",
    "\n",
    "# Load the provided CSV file\n",
    "df = pd.read_csv(\"processed_videos_eind.csv\")\n",
    "\n",
    "# Ensure 'HRV' and 'Phase' columns exist\n",
    "if \"HRV\" in df.columns and \"Phase\" in df.columns:\n",
    "    # Min-Max Normalization per Phase\n",
    "    df['HRV_minmax'] = df.groupby(\"Phase\")['HRV'].transform(lambda x: (x - x.min()) / (x.max() - x.min()))\n",
    "\n",
    "    # Drop the original HRV column\n",
    "    df = df.drop(columns=['HRV'])\n",
    "\n",
    "    # Save the DataFrame with only normalized HRV values to a new CSV file\n",
    "    df.to_csv(\"HRV_Normalized.csv\", index=False)\n",
    "    \n",
    "    # Display the first few rows of the normalized data (optional)\n",
    "    print(df.head())\n",
    "else:\n",
    "    print(\"Required columns ('HRV' and 'Phase') not found in the provided CSV file.\")\n"
   ]
  }
 ],
 "metadata": {
  "kernelspec": {
   "display_name": "Python 3 (ipykernel)",
   "language": "python",
   "name": "python3"
  },
  "language_info": {
   "codemirror_mode": {
    "name": "ipython",
    "version": 3
   },
   "file_extension": ".py",
   "mimetype": "text/x-python",
   "name": "python",
   "nbconvert_exporter": "python",
   "pygments_lexer": "ipython3",
   "version": "3.10.13"
  }
 },
 "nbformat": 4,
 "nbformat_minor": 5
}
