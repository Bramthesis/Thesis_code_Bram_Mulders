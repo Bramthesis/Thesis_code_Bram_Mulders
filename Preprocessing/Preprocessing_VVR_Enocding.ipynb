{
 "cells": [
  {
   "cell_type": "code",
   "execution_count": 4,
   "id": "a1cbf80e-fa2d-4608-9336-88adff8272e5",
   "metadata": {},
   "outputs": [],
   "source": [
    "import pandas as pd\n",
    "\n",
    "# Load the CSV file\n",
    "file_path = 'FAINT_alldatafromallparticipants.csv'\n",
    "data = pd.read_csv(file_path)\n",
    "\n",
    "# Filter for time points 4, 5, 6, and 7\n",
    "filtered_data = data[data['Time_point'].isin([4, 5, 6, 7])]\n",
    "\n",
    "# Perform transformations\n",
    "full_data = filtered_data.groupby('ID').agg({\n",
    "    'Age': 'first',\n",
    "    'Gender': 'first',\n",
    "    'Condition': 'first',\n",
    "    'VVR_sum_tp': 'sum'\n",
    "}).reset_index()\n",
    "\n",
    "# Rename columns\n",
    "full_data = full_data.rename(columns={'VVR_sum_tp': 'VVR_sum', 'Condition': 'Prior_Donation'})\n",
    "\n",
    "# Convert VVR_sum to integer\n",
    "full_data['VVR_sum'] = full_data['VVR_sum'].astype(int)\n",
    "\n",
    "# Add the binary 'VVR_Encoded' column\n",
    "full_data['VVR_Encoded'] = full_data['VVR_sum'].apply(lambda x: 1 if x > 40 else 0)\n",
    "\n",
    "# Save the transformed DataFrame\n",
    "full_data.to_csv('Full_data.csv', index=False)\n"
   ]
  }
 ],
 "metadata": {
  "kernelspec": {
   "display_name": "Python 3 (ipykernel)",
   "language": "python",
   "name": "python3"
  },
  "language_info": {
   "codemirror_mode": {
    "name": "ipython",
    "version": 3
   },
   "file_extension": ".py",
   "mimetype": "text/x-python",
   "name": "python",
   "nbconvert_exporter": "python",
   "pygments_lexer": "ipython3",
   "version": "3.10.13"
  }
 },
 "nbformat": 4,
 "nbformat_minor": 5
}
