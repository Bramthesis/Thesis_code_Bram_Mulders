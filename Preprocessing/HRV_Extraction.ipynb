{
 "cells": [
  {
   "cell_type": "code",
   "execution_count": 4,
   "id": "a97043cc-4697-424f-af44-4de84ce89dbb",
   "metadata": {},
   "outputs": [],
   "source": [ !pip install opencv-python-headless 
!pip install mediapipe 
!pip install --upgrade numexpr 

import cv2
import mediapipe as mp
import numpy as np
import time
from scipy import signal
import pandas as pd
import re
import os
import gc  

# Define the path for storing the DataFrame
df_path = "processed_videos.csv"

# Load the DataFrame if it exists; otherwise, create an empty one
if os.path.exists(df_path):
    df = pd.read_csv(df_path)
    print(f"Loaded existing DataFrame with {len(df)} entries.")
else:
    df = pd.DataFrame(columns=["ID", "Phase", "HRV"])
    print("Created a new empty DataFrame.")

# List to track files that encountered errors
error_files = []

# Directory containing video files
video_directory = "videos"

# Define the heart rate estimation class
class HeartRateEstimator:
    def __init__(self, buffer_size=150):
        self.buffer_size = buffer_size
        self.data_buffer = []  # Stores green channel intensity over time
        self.times = []  # Stores timestamps of the frames
        self.t0 = time.time()  # Start time for frame timestamps

    def extract_green_channel(self, frame):
        green_mean = np.mean(frame[:, :, 1])
        return green_mean

    def process_frame(self, frame):
        green_value = self.extract_green_channel(frame)
        self.times.append(time.time() - self.t0)
        self.data_buffer.append(green_value)

        # Only start processing when buffer is filled
        if len(self.data_buffer) > self.buffer_size:
            # Keep only the last `buffer_size` elements
            self.data_buffer = self.data_buffer[-self.buffer_size:]
            self.times = self.times[-self.buffer_size:]

            # Estimate heart rate using the data buffer
            bpm = self.estimate_heart_rate()
            return bpm

        return None

    def estimate_heart_rate(self):
        clean_data_buffer = np.array(self.data_buffer)
        clean_data_buffer = clean_data_buffer[np.isfinite(clean_data_buffer)]
        
        if len(clean_data_buffer) < 2:
            print("Not enough valid data points to estimate heart rate.")
            return 0
        
        L = len(clean_data_buffer)
        fps = float(L) / (self.times[-1] - self.times[0])
        detrended = signal.detrend(clean_data_buffer)
        peaks, _ = signal.find_peaks(detrended, distance=fps * 0.6)

        peak_times = np.array(self.times)[peaks]
        rr_intervals = np.diff(peak_times)

        if len(rr_intervals) > 0:
            avg_rr_interval = np.mean(rr_intervals)
            bpm = 60 / avg_rr_interval
        else:
            bpm = 0

        return bpm

# Define the face detection class
class FaceDetection:
    def __init__(self):
        self.face_detection = mp.solutions.face_detection.FaceDetection(model_selection=1, min_detection_confidence=0.5)

    def detect_face(self, frame):
        frame_rgb = cv2.cvtColor(frame, cv2.COLOR_BGR2RGB)
        results = self.face_detection.process(frame_rgb)

        if results.detections:
            for detection in results.detections:
                bboxC = detection.location_data.relative_bounding_box
                ih, iw, _ = frame.shape
                x, y, w, h = int(bboxC.xmin * iw), int(bboxC.ymin * ih), int(bboxC.width * iw), int(bboxC.height * ih)
                face_frame = frame[y:y + h, x:x + w]
                return face_frame

        return None 

# Function to calculate RMSSD
def calculate_rmssd(bpm_series):
    try:
        hr_variability = np.diff(bpm_series)
        squared_diffs = np.square(hr_variability)
        mean_squared_diffs = np.mean(squared_diffs)
        rmssd = np.sqrt(mean_squared_diffs)
        return rmssd
    except TypeError as e:
        print(f"Error calculating RMSSD: {e}")
        return None

# Function to add an entry to the DataFrame
def add_entry(ID, Phase, rmssd):
    global df
    # Check if this entry already exists in the DataFrame
    if not ((df["ID"] == ID) & (df["Phase"] == Phase)).any():
        new_entry = pd.DataFrame([{"ID": ID, "Phase": Phase, "HRV": rmssd}])
        df = pd.concat([df, new_entry], ignore_index=True)
        print(f"Added: {new_entry.iloc[0].to_dict()}")
    else:
        print(f"Entry with ID {ID} and Phase {Phase} already exists. Skipping.")

# Process each video file in the directory in batches
error_files = []
for idx, filename in enumerate(os.listdir(video_directory)):
    if filename.endswith(".MOV"):
        # Parse ID and Phase from the filename using regex that matches both "-" and "_" separators
        match = re.match(r"(\d+)[-_](\d+)\.MOV", filename)
        if match:
            ID = int(match.group(1))
            Phase = int(match.group(2))

            # Check if this file's data is already in the DataFrame to avoid re-processing
            if ((df["ID"] == ID) & (df["Phase"] == Phase)).any():
                print(f"Skipping {filename}: ID {ID} and Phase {Phase} already in DataFrame.")
                continue  # Skip this file if already processed

            file_path = os.path.join(video_directory, filename)
            try:
                if os.path.exists(file_path):
                    cap = cv2.VideoCapture(file_path)
                    if not cap.isOpened():
                        # Log the filename that causes the "moov atom not found" error
                        print(f"Error: Could not open video '{filename}' (moov atom not found).")
                        error_files.append(f"{filename} (moov atom not found)")
                        continue
                    
                    estimator = HeartRateEstimator()
                    face_detector = FaceDetection()
                    bpm_series = []

                    while cap.isOpened():
                        ret, frame = cap.read()
                        if not ret:
                            break

                        face_frame = face_detector.detect_face(frame)
                        if face_frame is not None:
                            bpm = estimator.process_frame(face_frame)
                            if bpm is not None:
                                bpm_series.append(bpm)

                    cap.release()

                    if len(bpm_series) > 1:
                        rmssd = calculate_rmssd(bpm_series)
                        if rmssd is not None:
                            print(f"RMSSD: {rmssd:.2f}")
                            add_entry(ID, Phase, rmssd)
                        else:
                            print("Unable to calculate RMSSD.")
                            error_files.append(f"{filename} (RMSSD calculation failed)")
                    else:
                        print("Not enough BPM data to calculate RMSSD.")
                        error_files.append(f"{filename} (insufficient BPM data)")
                else:
                    print(f"Video file '{file_path}' does not exist.")
                    error_files.append(f"{filename} (file not found)")
            
            except Exception as e:
                print(f"An error occurred while processing '{filename}': {e}")
                error_files.append(f"{filename} (processing error: {e})")
        
            # Clear memory by deleting large objects after each file
            try:
                del cap, estimator, face_detector, bpm_series
            except NameError:
                pass  # If any variable wasn't defined, just skip deleting it.
            
            gc.collect()  # Run garbage collection to free memory

            # Save periodically after every 10 files
            if (idx + 1) % 10 == 0:
                df.to_csv(df_path, index=False)
                print(f"Data saved to '{df_path}' after processing {idx + 1} files.")

# Final save of the DataFrame
df.to_csv(df_path, index=False)
print(f"Final data saved to '{df_path}'.")

# Display the DataFrame and list of error files
print(df)
if error_files:
    print("\nFiles that encountered errors and were not added to the DataFrame:")
    for error_file in error_files:
        print(f"- {error_file}")
else:
    print("\nAll files processed successfully.")
