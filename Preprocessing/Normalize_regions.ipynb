{
 "cells": [
  {
   "cell_type": "code",
   "execution_count": 1,
   "id": "f6fb10b6-8734-49ad-bde1-c93c857f4dba",
   "metadata": {},
   "outputs": [
    {
     "name": "stdout",
     "output_type": "stream",
     "text": [
      "Requirement already satisfied: numexpr in /opt/conda/lib/python3.10/site-packages (2.10.2)\n",
      "Requirement already satisfied: numpy>=1.23.0 in /opt/conda/lib/python3.10/site-packages (from numexpr) (1.25.2)\n"
     ]
    },
    {
     "data": {
      "text/plain": [
       "'Max_Temp_Normalized.csv'"
      ]
     },
     "execution_count": 1,
     "metadata": {},
     "output_type": "execute_result"
    }
   ],
   "source": [
    "!pip install --upgrade numexpr\n",
    "\n",
    "import pandas as pd\n",
    "\n",
    "# Load the provided file\n",
    "file_path = 'Max_Temp_Per_Phase.csv'\n",
    "df = pd.read_csv(file_path)\n",
    "\n",
    "# Check the structure of the data\n",
    "df.head()\n",
    "\n",
    "# Normalize the temperature values (min-max normalization for each column)\n",
    "normalized_columns = ['Lcheek_max', 'Rcheek_max', 'nose_max', 'chin_max', 'below_nose_max']\n",
    "\n",
    "# Apply min-max normalization\n",
    "df[normalized_columns] = df[normalized_columns].apply(\n",
    "    lambda x: (x - x.min()) / (x.max() - x.min())\n",
    ")\n",
    "\n",
    "# Define the new output file name\n",
    "output_file_path = 'Max_Temp_Normalized.csv'\n",
    "\n",
    "# Save the normalized DataFrame to a new file\n",
    "df.to_csv(output_file_path, index=False)\n",
    "\n",
    "output_file_path\n"
   ]
  }
 ],
 "metadata": {
  "kernelspec": {
   "display_name": "Python 3 (ipykernel)",
   "language": "python",
   "name": "python3"
  },
  "language_info": {
   "codemirror_mode": {
    "name": "ipython",
    "version": 3
   },
   "file_extension": ".py",
   "mimetype": "text/x-python",
   "name": "python",
   "nbconvert_exporter": "python",
   "pygments_lexer": "ipython3",
   "version": "3.10.13"
  }
 },
 "nbformat": 4,
 "nbformat_minor": 5
}
