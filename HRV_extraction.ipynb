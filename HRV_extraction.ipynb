{
 "cells": [
  {
   "cell_type": "code",
   "execution_count": 1,
   "id": "ad7cd6a9-edcc-485e-a40b-b0feaba3304f",
   "metadata": {},
   "outputs": [
    {
     "name": "stderr",
     "output_type": "stream",
     "text": [
      "2024-11-11 08:53:09.041048: I tensorflow/core/platform/cpu_feature_guard.cc:182] This TensorFlow binary is optimized to use available CPU instructions in performance-critical operations.\n",
      "To enable the following instructions: SSE4.1 SSE4.2 AVX AVX2 FMA, in other operations, rebuild TensorFlow with the appropriate compiler flags.\n"
     ]
    },
    {
     "name": "stdout",
     "output_type": "stream",
     "text": [
      "Loaded existing DataFrame with 621 entries.\n",
      "Error: Could not open video '48_01.MOV' (moov atom not found).\n",
      "Skipping 168_02.MOV: ID 168 and Phase 2 already in DataFrame.\n",
      "Skipping 246_01.MOV: ID 246 and Phase 1 already in DataFrame.\n",
      "Skipping 175_01.MOV: ID 175 and Phase 1 already in DataFrame.\n",
      "Skipping 135_01.MOV: ID 135 and Phase 1 already in DataFrame.\n",
      "Skipping 312_02.MOV: ID 312 and Phase 2 already in DataFrame.\n",
      "Skipping 242_02.MOV: ID 242 and Phase 2 already in DataFrame.\n",
      "Skipping 189_02.MOV: ID 189 and Phase 2 already in DataFrame.\n",
      "Skipping 321_01.MOV: ID 321 and Phase 1 already in DataFrame.\n",
      "Skipping 132_01.MOV: ID 132 and Phase 1 already in DataFrame.\n",
      "Skipping 100_01.MOV: ID 100 and Phase 1 already in DataFrame.\n",
      "Skipping 315_02.MOV: ID 315 and Phase 2 already in DataFrame.\n",
      "Error: Could not open video '62_01.MOV' (moov atom not found).\n",
      "Skipping 255_01.MOV: ID 255 and Phase 1 already in DataFrame.\n",
      "Skipping 150_01.MOV: ID 150 and Phase 1 already in DataFrame.\n",
      "Skipping 108_02.MOV: ID 108 and Phase 2 already in DataFrame.\n",
      "Skipping 103_02.MOV: ID 103 and Phase 2 already in DataFrame.\n",
      "Skipping 167_01.MOV: ID 167 and Phase 1 already in DataFrame.\n",
      "Skipping 124_02.MOV: ID 124 and Phase 2 already in DataFrame.\n",
      "Skipping 192_02.MOV: ID 192 and Phase 2 already in DataFrame.\n",
      "Skipping 83_01.MOV: ID 83 and Phase 1 already in DataFrame.\n"
     ]
    },
    {
     "name": "stderr",
     "output_type": "stream",
     "text": [
      "[mov,mp4,m4a,3gp,3g2,mj2 @ 0x55d136043a40] moov atom not found\n",
      "[mov,mp4,m4a,3gp,3g2,mj2 @ 0x55d136044f00] moov atom not found\n",
      "[mov,mp4,m4a,3gp,3g2,mj2 @ 0x55d136045500] moov atom not found\n",
      "[mov,mp4,m4a,3gp,3g2,mj2 @ 0x55d1360458c0] moov atom not found\n",
      "[mov,mp4,m4a,3gp,3g2,mj2 @ 0x55d136445f00] moov atom not found\n"
     ]
    },
    {
     "name": "stdout",
     "output_type": "stream",
     "text": [
      "Error: Could not open video '30_01.MOV' (moov atom not found).\n",
      "Skipping 120_02.MOV: ID 120 and Phase 2 already in DataFrame.\n",
      "Skipping 249_02.MOV: ID 249 and Phase 2 already in DataFrame.\n",
      "Skipping 89_02.MOV: ID 89 and Phase 2 already in DataFrame.\n",
      "Skipping 141_02.MOV: ID 141 and Phase 2 already in DataFrame.\n",
      "Skipping 217_02.MOV: ID 217 and Phase 2 already in DataFrame.\n",
      "Skipping 280_01.MOV: ID 280 and Phase 1 already in DataFrame.\n",
      "Skipping 111_01.MOV: ID 111 and Phase 1 already in DataFrame.\n",
      "Error: Could not open video '77_01.MOV' (moov atom not found).\n",
      "Skipping 88_02.MOV: ID 88 and Phase 2 already in DataFrame.\n",
      "Skipping 38_01.MOV: ID 38 and Phase 1 already in DataFrame.\n",
      "Skipping 80_01.MOV: ID 80 and Phase 1 already in DataFrame.\n",
      "Skipping 22-02.MOV: ID 22 and Phase 2 already in DataFrame.\n",
      "Skipping 27-02.MOV: ID 27 and Phase 2 already in DataFrame.\n",
      "Skipping 114_01.MOV: ID 114 and Phase 1 already in DataFrame.\n",
      "Skipping 183_01.MOV: ID 183 and Phase 1 already in DataFrame.\n",
      "Skipping 179_03.MOV: ID 179 and Phase 3 already in DataFrame.\n",
      "Skipping 41_02.MOV: ID 41 and Phase 2 already in DataFrame.\n",
      "Error: Could not open video '51_03.MOV' (moov atom not found).\n",
      "Skipping 131_01.MOV: ID 131 and Phase 1 already in DataFrame.\n",
      "Skipping 244_02.MOV: ID 244 and Phase 2 already in DataFrame.\n",
      "Skipping 285_02.MOV: ID 285 and Phase 2 already in DataFrame.\n",
      "Skipping 154_01.MOV: ID 154 and Phase 1 already in DataFrame.\n",
      "Skipping 167_03.MOV: ID 167 and Phase 3 already in DataFrame.\n",
      "Skipping 305_02.MOV: ID 305 and Phase 2 already in DataFrame.\n",
      "Skipping 113_01.MOV: ID 113 and Phase 1 already in DataFrame.\n",
      "Skipping 91_02.MOV: ID 91 and Phase 2 already in DataFrame.\n",
      "Skipping 110_01.MOV: ID 110 and Phase 1 already in DataFrame.\n",
      "Skipping 13-02.MOV: ID 13 and Phase 2 already in DataFrame.\n",
      "Skipping 23-03.MOV: ID 23 and Phase 3 already in DataFrame.\n",
      "Skipping 235-01.MOV: ID 235 and Phase 1 already in DataFrame.\n"
     ]
    },
    {
     "name": "stderr",
     "output_type": "stream",
     "text": [
      "[mov,mp4,m4a,3gp,3g2,mj2 @ 0x55d136446300] moov atom not found\n",
      "[mov,mp4,m4a,3gp,3g2,mj2 @ 0x55d136045b80] moov atom not found\n",
      "[mov,mp4,m4a,3gp,3g2,mj2 @ 0x55d1364465c0] moov atom not found\n",
      "[mov,mp4,m4a,3gp,3g2,mj2 @ 0x55d136446900] moov atom not found\n"
     ]
    },
    {
     "name": "stdout",
     "output_type": "stream",
     "text": [
      "Error: Could not open video '77_03.MOV' (moov atom not found).\n",
      "Skipping 169_03.MOV: ID 169 and Phase 3 already in DataFrame.\n",
      "Skipping 138_02.MOV: ID 138 and Phase 2 already in DataFrame.\n",
      "Skipping 252_02.MOV: ID 252 and Phase 2 already in DataFrame.\n",
      "Skipping 41_03.MOV: ID 41 and Phase 3 already in DataFrame.\n",
      "Skipping 177_03.MOV: ID 177 and Phase 3 already in DataFrame.\n",
      "Skipping 227_01.MOV: ID 227 and Phase 1 already in DataFrame.\n",
      "Skipping 8-02.MOV: ID 8 and Phase 2 already in DataFrame.\n",
      "Error: Could not open video '31_02.MOV' (moov atom not found).\n",
      "Skipping 128_01.MOV: ID 128 and Phase 1 already in DataFrame.\n",
      "Skipping 205_02.MOV: ID 205 and Phase 2 already in DataFrame.\n",
      "Skipping 179_02.MOV: ID 179 and Phase 2 already in DataFrame.\n",
      "Skipping 230_02.MOV: ID 230 and Phase 2 already in DataFrame.\n",
      "Skipping 143_01.MOV: ID 143 and Phase 1 already in DataFrame.\n",
      "Skipping 142_01.MOV: ID 142 and Phase 1 already in DataFrame.\n",
      "Skipping 58_02.MOV: ID 58 and Phase 2 already in DataFrame.\n",
      "Skipping 81_01.MOV: ID 81 and Phase 1 already in DataFrame.\n",
      "Skipping 225_01.MOV: ID 225 and Phase 1 already in DataFrame.\n",
      "Error: Could not open video '60_02.MOV' (moov atom not found).\n",
      "Skipping 238_02.MOV: ID 238 and Phase 2 already in DataFrame.\n",
      "Skipping 307_02.MOV: ID 307 and Phase 2 already in DataFrame.\n",
      "Skipping 14-01.MOV: ID 14 and Phase 1 already in DataFrame.\n",
      "Skipping 146_01.MOV: ID 146 and Phase 1 already in DataFrame.\n",
      "Skipping 329_01.MOV: ID 329 and Phase 1 already in DataFrame.\n",
      "Skipping 233_01.MOV: ID 233 and Phase 1 already in DataFrame.\n",
      "Skipping 205_01.MOV: ID 205 and Phase 1 already in DataFrame.\n",
      "Skipping 51_01.MOV: ID 51 and Phase 1 already in DataFrame.\n",
      "Skipping 96_01.MOV: ID 96 and Phase 1 already in DataFrame.\n",
      "Error: Could not open video '56_01.MOV' (moov atom not found).\n",
      "Skipping 236_01.MOV: ID 236 and Phase 1 already in DataFrame.\n",
      "Skipping 92_01.MOV: ID 92 and Phase 1 already in DataFrame.\n",
      "Skipping 12-02.MOV: ID 12 and Phase 2 already in DataFrame.\n",
      "Skipping 157_02.MOV: ID 157 and Phase 2 already in DataFrame.\n"
     ]
    },
    {
     "name": "stderr",
     "output_type": "stream",
     "text": [
      "[mov,mp4,m4a,3gp,3g2,mj2 @ 0x55d136446d00] moov atom not found\n"
     ]
    },
    {
     "name": "stdout",
     "output_type": "stream",
     "text": [
      "Error: Could not open video '59_02.MOV' (moov atom not found).\n"
     ]
    },
    {
     "name": "stderr",
     "output_type": "stream",
     "text": [
      "INFO: Created TensorFlow Lite XNNPACK delegate for CPU.\n",
      "WARNING: All log messages before absl::InitializeLog() is called are written to STDERR\n",
      "W0000 00:00:1731315196.620067   42265 inference_feedback_manager.cc:114] Feedback manager requires a model with a single signature inference. Disabling support for feedback tensors.\n",
      "/opt/conda/lib/python3.10/site-packages/numpy/core/fromnumeric.py:3504: RuntimeWarning: Mean of empty slice.\n",
      "  return _methods._mean(a, axis=axis, dtype=dtype,\n",
      "/opt/conda/lib/python3.10/site-packages/numpy/core/_methods.py:129: RuntimeWarning: invalid value encountered in scalar divide\n",
      "  ret = ret.dtype.type(ret / rcount)\n"
     ]
    },
    {
     "name": "stdout",
     "output_type": "stream",
     "text": [
      "An error occurred while processing '82_01.MOV': `distance` must be greater or equal to 1\n",
      "Skipping 190_03.MOV: ID 190 and Phase 3 already in DataFrame.\n",
      "Skipping 145_01.MOV: ID 145 and Phase 1 already in DataFrame.\n",
      "Skipping 85_01.MOV: ID 85 and Phase 1 already in DataFrame.\n",
      "Skipping 254_01.MOV: ID 254 and Phase 1 already in DataFrame.\n",
      "Skipping 179_01.MOV: ID 179 and Phase 1 already in DataFrame.\n",
      "Skipping 199_03.MOV: ID 199 and Phase 3 already in DataFrame.\n",
      "Skipping 262_02.MOV: ID 262 and Phase 2 already in DataFrame.\n",
      "Skipping 150_03.MOV: ID 150 and Phase 3 already in DataFrame.\n",
      "Skipping 221_03.MOV: ID 221 and Phase 3 already in DataFrame.\n",
      "Skipping 208_03.MOV: ID 208 and Phase 3 already in DataFrame.\n",
      "Error: Could not open video '29_01.MOV' (moov atom not found).\n",
      "Error: Could not open video '79_02.MOV' (moov atom not found).\n",
      "Skipping 194_02.MOV: ID 194 and Phase 2 already in DataFrame.\n",
      "Skipping 166_03.MOV: ID 166 and Phase 3 already in DataFrame.\n",
      "Skipping 238_03.MOV: ID 238 and Phase 3 already in DataFrame.\n",
      "Skipping 170_01.MOV: ID 170 and Phase 1 already in DataFrame.\n",
      "Skipping 318_01.MOV: ID 318 and Phase 1 already in DataFrame.\n",
      "Skipping 330_01.MOV: ID 330 and Phase 1 already in DataFrame.\n",
      "Skipping 153_02.MOV: ID 153 and Phase 2 already in DataFrame.\n",
      "Skipping 115_03.MOV: ID 115 and Phase 3 already in DataFrame.\n",
      "Skipping 190_01.MOV: ID 190 and Phase 1 already in DataFrame.\n",
      "Skipping 297_02.MOV: ID 297 and Phase 2 already in DataFrame.\n",
      "Skipping 96_02.MOV: ID 96 and Phase 2 already in DataFrame.\n",
      "Skipping 89_01.MOV: ID 89 and Phase 1 already in DataFrame.\n",
      "Skipping 200_02.MOV: ID 200 and Phase 2 already in DataFrame.\n",
      "Skipping 174_02.MOV: ID 174 and Phase 2 already in DataFrame.\n",
      "Skipping 313_02.MOV: ID 313 and Phase 2 already in DataFrame.\n",
      "Skipping 211_01.MOV: ID 211 and Phase 1 already in DataFrame.\n",
      "Error: Could not open video '53_02.MOV' (moov atom not found).\n",
      "Skipping 224_02.MOV: ID 224 and Phase 2 already in DataFrame.\n",
      "Skipping 249_03.MOV: ID 249 and Phase 3 already in DataFrame.\n"
     ]
    },
    {
     "name": "stderr",
     "output_type": "stream",
     "text": [
      "[mov,mp4,m4a,3gp,3g2,mj2 @ 0x55d1370d11c0] moov atom not found\n",
      "[mov,mp4,m4a,3gp,3g2,mj2 @ 0x55d13717f940] moov atom not found\n",
      "[mov,mp4,m4a,3gp,3g2,mj2 @ 0x55d1370f13c0] moov atom not found\n",
      "[mov,mp4,m4a,3gp,3g2,mj2 @ 0x55d1370f13c0] moov atom not found\n"
     ]
    },
    {
     "name": "stdout",
     "output_type": "stream",
     "text": [
      "Error: Could not open video '21-01.MOV' (moov atom not found).\n",
      "Skipping 115_01.MOV: ID 115 and Phase 1 already in DataFrame.\n",
      "Skipping 200_03.MOV: ID 200 and Phase 3 already in DataFrame.\n",
      "Skipping 97_02.MOV: ID 97 and Phase 2 already in DataFrame.\n",
      "Skipping 160_02.MOV: ID 160 and Phase 2 already in DataFrame.\n",
      "Skipping 161_02.MOV: ID 161 and Phase 2 already in DataFrame.\n",
      "Skipping 120_01.MOV: ID 120 and Phase 1 already in DataFrame.\n",
      "Skipping 332_01.MOV: ID 332 and Phase 1 already in DataFrame.\n",
      "Skipping 301_01.MOV: ID 301 and Phase 1 already in DataFrame.\n",
      "Skipping 168_01.MOV: ID 168 and Phase 1 already in DataFrame.\n",
      "Skipping 192_03.MOV: ID 192 and Phase 3 already in DataFrame.\n",
      "Error: Could not open video '44_01.MOV' (moov atom not found).\n",
      "Skipping 187_02.MOV: ID 187 and Phase 2 already in DataFrame.\n",
      "Skipping 239_02.MOV: ID 239 and Phase 2 already in DataFrame.\n",
      "Skipping 329_02.MOV: ID 329 and Phase 2 already in DataFrame.\n",
      "Skipping 233_02.MOV: ID 233 and Phase 2 already in DataFrame.\n",
      "Skipping 290_02.MOV: ID 290 and Phase 2 already in DataFrame.\n",
      "Skipping 175_03.MOV: ID 175 and Phase 3 already in DataFrame.\n",
      "Skipping 163_03.MOV: ID 163 and Phase 3 already in DataFrame.\n",
      "Skipping 247_01.MOV: ID 247 and Phase 1 already in DataFrame.\n",
      "Skipping 277_02.MOV: ID 277 and Phase 2 already in DataFrame.\n",
      "Error: Could not open video '52_01.MOV' (moov atom not found).\n",
      "Skipping 7-01.MOV: ID 7 and Phase 1 already in DataFrame.\n",
      "Skipping 222_02.MOV: ID 222 and Phase 2 already in DataFrame.\n",
      "Skipping 121_02.MOV: ID 121 and Phase 2 already in DataFrame.\n",
      "Skipping 259_02.MOV: ID 259 and Phase 2 already in DataFrame.\n",
      "Skipping 162_03.MOV: ID 162 and Phase 3 already in DataFrame.\n",
      "Skipping 202_01.MOV: ID 202 and Phase 1 already in DataFrame.\n",
      "Skipping 261-02.MOV: ID 261 and Phase 2 already in DataFrame.\n",
      "Skipping 171_02.MOV: ID 171 and Phase 2 already in DataFrame.\n",
      "Skipping 173_01.MOV: ID 173 and Phase 1 already in DataFrame.\n",
      "Skipping 25-03.MOV: ID 25 and Phase 3 already in DataFrame.\n",
      "Skipping 15-02.MOV: ID 15 and Phase 2 already in DataFrame.\n",
      "Skipping 143_02.MOV: ID 143 and Phase 2 already in DataFrame.\n",
      "Skipping 317_01.MOV: ID 317 and Phase 1 already in DataFrame.\n",
      "Skipping 219_03.MOV: ID 219 and Phase 3 already in DataFrame.\n",
      "Skipping 194_03.MOV: ID 194 and Phase 3 already in DataFrame.\n",
      "Skipping 133_02.MOV: ID 133 and Phase 2 already in DataFrame.\n",
      "Skipping 9-01.MOV: ID 9 and Phase 1 already in DataFrame.\n",
      "Skipping 118_03.MOV: ID 118 and Phase 3 already in DataFrame.\n",
      "Skipping 183_03.MOV: ID 183 and Phase 3 already in DataFrame.\n",
      "Skipping 199_02.MOV: ID 199 and Phase 2 already in DataFrame.\n",
      "Skipping 117_01.MOV: ID 117 and Phase 1 already in DataFrame.\n",
      "Skipping 165_01.MOV: ID 165 and Phase 1 already in DataFrame.\n",
      "Skipping 38_02.MOV: ID 38 and Phase 2 already in DataFrame.\n",
      "Skipping 325_02.MOV: ID 325 and Phase 2 already in DataFrame.\n"
     ]
    },
    {
     "name": "stderr",
     "output_type": "stream",
     "text": [
      "[mov,mp4,m4a,3gp,3g2,mj2 @ 0x55d1370f13c0] moov atom not found\n",
      "[mov,mp4,m4a,3gp,3g2,mj2 @ 0x55d1370f13c0] moov atom not found\n",
      "[mov,mp4,m4a,3gp,3g2,mj2 @ 0x55d13604ce00] moov atom not found\n",
      "[mov,mp4,m4a,3gp,3g2,mj2 @ 0x55d13717da40] moov atom not found\n"
     ]
    },
    {
     "name": "stdout",
     "output_type": "stream",
     "text": [
      "Error: Could not open video '58_03.MOV' (moov atom not found).\n",
      "Skipping 232_03.MOV: ID 232 and Phase 3 already in DataFrame.\n",
      "Skipping 289_02.MOV: ID 289 and Phase 2 already in DataFrame.\n",
      "Skipping 123_01.MOV: ID 123 and Phase 1 already in DataFrame.\n",
      "Skipping 138_01.MOV: ID 138 and Phase 1 already in DataFrame.\n",
      "Skipping 157_01.MOV: ID 157 and Phase 1 already in DataFrame.\n",
      "Error: Could not open video '55_01.MOV' (moov atom not found).\n",
      "Skipping 252_01.MOV: ID 252 and Phase 1 already in DataFrame.\n",
      "Skipping 195_03.MOV: ID 195 and Phase 3 already in DataFrame.\n",
      "Skipping 63_02.MOV: ID 63 and Phase 2 already in DataFrame.\n",
      "Skipping 169_02.MOV: ID 169 and Phase 2 already in DataFrame.\n",
      "Skipping 81_03.MOV: ID 81 and Phase 3 already in DataFrame.\n",
      "Skipping 256_02.MOV: ID 256 and Phase 2 already in DataFrame.\n",
      "Skipping 82_02.MOV: ID 82 and Phase 2 already in DataFrame.\n",
      "Skipping 71_02.MOV: ID 71 and Phase 2 already in DataFrame.\n",
      "Skipping 94_03.MOV: ID 94 and Phase 3 already in DataFrame.\n",
      "Skipping 84_02.MOV: ID 84 and Phase 2 already in DataFrame.\n",
      "Skipping 145_02.MOV: ID 145 and Phase 2 already in DataFrame.\n",
      "Skipping 323_01.MOV: ID 323 and Phase 1 already in DataFrame.\n",
      "Skipping 240_01.MOV: ID 240 and Phase 1 already in DataFrame.\n",
      "Skipping 134_02.MOV: ID 134 and Phase 2 already in DataFrame.\n",
      "Skipping 73_03.MOV: ID 73 and Phase 3 already in DataFrame.\n",
      "Error: Could not open video '33_02.MOV' (moov atom not found).\n",
      "Skipping 220_01.MOV: ID 220 and Phase 1 already in DataFrame.\n",
      "Skipping 223_03.MOV: ID 223 and Phase 3 already in DataFrame.\n",
      "Skipping 129_01.MOV: ID 129 and Phase 1 already in DataFrame.\n",
      "Skipping 240_02.MOV: ID 240 and Phase 2 already in DataFrame.\n",
      "Skipping 237_01.MOV: ID 237 and Phase 1 already in DataFrame.\n",
      "Skipping 323_02.MOV: ID 323 and Phase 2 already in DataFrame.\n",
      "Skipping 13-01.MOV: ID 13 and Phase 1 already in DataFrame.\n",
      "Skipping 163_02.MOV: ID 163 and Phase 2 already in DataFrame.\n",
      "Skipping 191_01.MOV: ID 191 and Phase 1 already in DataFrame.\n",
      "Skipping 17-02.MOV: ID 17 and Phase 2 already in DataFrame.\n",
      "Skipping 189_01.MOV: ID 189 and Phase 1 already in DataFrame.\n",
      "Skipping 45_02.MOV: ID 45 and Phase 2 already in DataFrame.\n",
      "Skipping 207_01.MOV: ID 207 and Phase 1 already in DataFrame.\n",
      "Skipping 249_01.MOV: ID 249 and Phase 1 already in DataFrame.\n",
      "Skipping 281_01.MOV: ID 281 and Phase 1 already in DataFrame.\n",
      "Skipping 153_01.MOV: ID 153 and Phase 1 already in DataFrame.\n",
      "Skipping 99_01.MOV: ID 99 and Phase 1 already in DataFrame.\n",
      "Error: Could not open video '67_03.MOV' (moov atom not found).\n",
      "Skipping 99_02.MOV: ID 99 and Phase 2 already in DataFrame.\n",
      "Skipping 211_03.MOV: ID 211 and Phase 3 already in DataFrame.\n",
      "Skipping 164_02.MOV: ID 164 and Phase 2 already in DataFrame.\n",
      "Skipping 5-02.MOV: ID 5 and Phase 2 already in DataFrame.\n",
      "Skipping 234_03.MOV: ID 234 and Phase 3 already in DataFrame.\n"
     ]
    },
    {
     "name": "stderr",
     "output_type": "stream",
     "text": [
      "[mov,mp4,m4a,3gp,3g2,mj2 @ 0x55d1370d2240] moov atom not found\n",
      "[mov,mp4,m4a,3gp,3g2,mj2 @ 0x55d1370d2240] moov atom not found\n",
      "[mov,mp4,m4a,3gp,3g2,mj2 @ 0x55d1370d2240] moov atom not found\n"
     ]
    },
    {
     "name": "stdout",
     "output_type": "stream",
     "text": [
      "Error: Could not open video '79_03.MOV' (moov atom not found).\n",
      "Skipping 120_03.MOV: ID 120 and Phase 3 already in DataFrame.\n",
      "Skipping 126_03.MOV: ID 126 and Phase 3 already in DataFrame.\n",
      "Skipping 76_02.MOV: ID 76 and Phase 2 already in DataFrame.\n",
      "Skipping 147_03.MOV: ID 147 and Phase 3 already in DataFrame.\n",
      "Skipping 81_02.MOV: ID 81 and Phase 2 already in DataFrame.\n",
      "Skipping 94_02.MOV: ID 94 and Phase 2 already in DataFrame.\n",
      "Skipping 206_01.MOV: ID 206 and Phase 1 already in DataFrame.\n",
      "Skipping 309_01.MOV: ID 309 and Phase 1 already in DataFrame.\n",
      "Skipping 244_01.MOV: ID 244 and Phase 1 already in DataFrame.\n",
      "Skipping 246_02.MOV: ID 246 and Phase 2 already in DataFrame.\n",
      "Skipping 192_01.MOV: ID 192 and Phase 1 already in DataFrame.\n",
      "Error: Could not open video '58_01.MOV' (moov atom not found).\n",
      "Skipping 164_01.MOV: ID 164 and Phase 1 already in DataFrame.\n",
      "Error: Could not open video '29_02.MOV' (moov atom not found).\n",
      "Skipping 68_03.MOV: ID 68 and Phase 3 already in DataFrame.\n",
      "Skipping 80_03.MOV: ID 80 and Phase 3 already in DataFrame.\n",
      "Skipping 80_02.MOV: ID 80 and Phase 2 already in DataFrame.\n",
      "Skipping 310_02.MOV: ID 310 and Phase 2 already in DataFrame.\n",
      "Error: Could not open video '39_01.MOV' (moov atom not found).\n",
      "Skipping 195_02.MOV: ID 195 and Phase 2 already in DataFrame.\n",
      "Skipping 220_02.MOV: ID 220 and Phase 2 already in DataFrame.\n",
      "Skipping 289_01.MOV: ID 289 and Phase 1 already in DataFrame.\n",
      "Skipping 70_02.MOV: ID 70 and Phase 2 already in DataFrame.\n",
      "Skipping 73_02.MOV: ID 73 and Phase 2 already in DataFrame.\n",
      "Skipping 86_01.MOV: ID 86 and Phase 1 already in DataFrame.\n",
      "Skipping 20-01.MOV: ID 20 and Phase 1 already in DataFrame.\n",
      "Skipping 291_02.MOV: ID 291 and Phase 2 already in DataFrame.\n",
      "Skipping 8-01.MOV: ID 8 and Phase 1 already in DataFrame.\n",
      "Skipping 144_03.MOV: ID 144 and Phase 3 already in DataFrame.\n"
     ]
    },
    {
     "name": "stderr",
     "output_type": "stream",
     "text": [
      "[mov,mp4,m4a,3gp,3g2,mj2 @ 0x55d1370d2240] moov atom not found\n",
      "[mov,mp4,m4a,3gp,3g2,mj2 @ 0x55d1370d2240] moov atom not found\n",
      "[mov,mp4,m4a,3gp,3g2,mj2 @ 0x55d1370d2240] moov atom not found\n",
      "[mov,mp4,m4a,3gp,3g2,mj2 @ 0x55d1370d2240] moov atom not found\n",
      "[mov,mp4,m4a,3gp,3g2,mj2 @ 0x55d1370d2240] moov atom not found\n",
      "[mov,mp4,m4a,3gp,3g2,mj2 @ 0x55d1370d2240] moov atom not found\n"
     ]
    },
    {
     "name": "stdout",
     "output_type": "stream",
     "text": [
      "Error: Could not open video '57_01.MOV' (moov atom not found).\n",
      "Skipping 241_01.MOV: ID 241 and Phase 1 already in DataFrame.\n",
      "Skipping 203_02.MOV: ID 203 and Phase 2 already in DataFrame.\n",
      "Error: Could not open video '42_01.MOV' (moov atom not found).\n",
      "Skipping 72_01.MOV: ID 72 and Phase 1 already in DataFrame.\n",
      "Skipping 19-02.MOV: ID 19 and Phase 2 already in DataFrame.\n",
      "Skipping 177_02.MOV: ID 177 and Phase 2 already in DataFrame.\n",
      "Skipping 94_01.MOV: ID 94 and Phase 1 already in DataFrame.\n",
      "Skipping 305_01.MOV: ID 305 and Phase 1 already in DataFrame.\n",
      "Skipping 180_01.MOV: ID 180 and Phase 1 already in DataFrame.\n",
      "Skipping 327_02.MOV: ID 327 and Phase 2 already in DataFrame.\n",
      "Skipping 219_02.MOV: ID 219 and Phase 2 already in DataFrame.\n",
      "Skipping 7-02.MOV: ID 7 and Phase 2 already in DataFrame.\n",
      "Error: Could not open video '64_01.MOV' (moov atom not found).\n",
      "Skipping 229_01.MOV: ID 229 and Phase 1 already in DataFrame.\n",
      "Skipping 258_02.MOV: ID 258 and Phase 2 already in DataFrame.\n",
      "Skipping 84_01.MOV: ID 84 and Phase 1 already in DataFrame.\n",
      "Skipping 159_02.MOV: ID 159 and Phase 2 already in DataFrame.\n",
      "Skipping 224_01.MOV: ID 224 and Phase 1 already in DataFrame.\n",
      "Skipping 100_02.MOV: ID 100 and Phase 2 already in DataFrame.\n",
      "Skipping 293_01.MOV: ID 293 and Phase 1 already in DataFrame.\n",
      "Skipping 304_02.MOV: ID 304 and Phase 2 already in DataFrame.\n",
      "Skipping 284_01.MOV: ID 284 and Phase 1 already in DataFrame.\n",
      "Skipping 279_02.MOV: ID 279 and Phase 2 already in DataFrame.\n",
      "Skipping 107_02.MOV: ID 107 and Phase 2 already in DataFrame.\n",
      "Skipping 327_01.MOV: ID 327 and Phase 1 already in DataFrame.\n",
      "Skipping 311_02.MOV: ID 311 and Phase 2 already in DataFrame.\n",
      "Skipping 149_01.MOV: ID 149 and Phase 1 already in DataFrame.\n",
      "Skipping 254_02.MOV: ID 254 and Phase 2 already in DataFrame.\n"
     ]
    },
    {
     "name": "stderr",
     "output_type": "stream",
     "text": [
      "[mov,mp4,m4a,3gp,3g2,mj2 @ 0x55d1370d2240] moov atom not found\n",
      "[mov,mp4,m4a,3gp,3g2,mj2 @ 0x55d1370d2240] moov atom not found\n",
      "[mov,mp4,m4a,3gp,3g2,mj2 @ 0x55d1370d2240] moov atom not found\n",
      "[mov,mp4,m4a,3gp,3g2,mj2 @ 0x55d1370d2240] moov atom not found\n"
     ]
    },
    {
     "name": "stdout",
     "output_type": "stream",
     "text": [
      "Error: Could not open video '66_01.MOV' (moov atom not found).\n",
      "Skipping 76_01.MOV: ID 76 and Phase 1 already in DataFrame.\n",
      "Skipping 196_03.MOV: ID 196 and Phase 3 already in DataFrame.\n",
      "Skipping 288_01.MOV: ID 288 and Phase 1 already in DataFrame.\n",
      "Skipping 86_02.MOV: ID 86 and Phase 2 already in DataFrame.\n",
      "Error: Could not open video '71_01.MOV' (moov atom not found).\n",
      "Skipping 325_01.MOV: ID 325 and Phase 1 already in DataFrame.\n",
      "Skipping 235-02.MOV: ID 235 and Phase 2 already in DataFrame.\n",
      "Skipping 279_01.MOV: ID 279 and Phase 1 already in DataFrame.\n",
      "Skipping 210_02.MOV: ID 210 and Phase 2 already in DataFrame.\n",
      "Skipping 232_01.MOV: ID 232 and Phase 1 already in DataFrame.\n",
      "Skipping 202_02.MOV: ID 202 and Phase 2 already in DataFrame.\n",
      "Skipping 92_02.MOV: ID 92 and Phase 2 already in DataFrame.\n",
      "Skipping 231_01.MOV: ID 231 and Phase 1 already in DataFrame.\n",
      "Skipping 206_02.MOV: ID 206 and Phase 2 already in DataFrame.\n",
      "Error: Could not open video '48_02.MOV' (moov atom not found).\n",
      "Skipping 298_01.MOV: ID 298 and Phase 1 already in DataFrame.\n",
      "Skipping 203_01.MOV: ID 203 and Phase 1 already in DataFrame.\n",
      "Error: Could not open video '63_01.MOV' (moov atom not found).\n",
      "Skipping 238_01.MOV: ID 238 and Phase 1 already in DataFrame.\n",
      "Skipping 209_01.MOV: ID 209 and Phase 1 already in DataFrame.\n",
      "Skipping 170_03.MOV: ID 170 and Phase 3 already in DataFrame.\n",
      "Skipping 250_02.MOV: ID 250 and Phase 2 already in DataFrame.\n",
      "Skipping 149_02.MOV: ID 149 and Phase 2 already in DataFrame.\n",
      "Skipping 101_01.MOV: ID 101 and Phase 1 already in DataFrame.\n",
      "Skipping 237_02.MOV: ID 237 and Phase 2 already in DataFrame.\n",
      "Skipping 133_01.MOV: ID 133 and Phase 1 already in DataFrame.\n",
      "Skipping 286_01.MOV: ID 286 and Phase 1 already in DataFrame.\n",
      "Skipping 242_03.MOV: ID 242 and Phase 3 already in DataFrame.\n",
      "Skipping 294_02.MOV: ID 294 and Phase 2 already in DataFrame.\n",
      "Skipping 293_02.MOV: ID 293 and Phase 2 already in DataFrame.\n",
      "Skipping 136_01.MOV: ID 136 and Phase 1 already in DataFrame.\n",
      "Skipping 137_02.MOV: ID 137 and Phase 2 already in DataFrame.\n",
      "Skipping 177_01.MOV: ID 177 and Phase 1 already in DataFrame.\n",
      "Skipping 116_02.MOV: ID 116 and Phase 2 already in DataFrame.\n",
      "Skipping 123_02.MOV: ID 123 and Phase 2 already in DataFrame.\n",
      "Skipping 230_01.MOV: ID 230 and Phase 1 already in DataFrame.\n",
      "Skipping 126_01.MOV: ID 126 and Phase 1 already in DataFrame.\n",
      "Skipping 283_01.MOV: ID 283 and Phase 1 already in DataFrame.\n",
      "Skipping 306_01.MOV: ID 306 and Phase 1 already in DataFrame.\n",
      "Skipping 125_02.MOV: ID 125 and Phase 2 already in DataFrame.\n",
      "Skipping 171_03.MOV: ID 171 and Phase 3 already in DataFrame.\n",
      "Skipping 306_02.MOV: ID 306 and Phase 2 already in DataFrame.\n"
     ]
    },
    {
     "name": "stderr",
     "output_type": "stream",
     "text": [
      "[mov,mp4,m4a,3gp,3g2,mj2 @ 0x55d13605fdc0] moov atom not found\n",
      "[mov,mp4,m4a,3gp,3g2,mj2 @ 0x55d136060700] moov atom not found\n",
      "[mov,mp4,m4a,3gp,3g2,mj2 @ 0x55d136061040] moov atom not found\n"
     ]
    },
    {
     "name": "stdout",
     "output_type": "stream",
     "text": [
      "Error: Could not open video '70_01.MOV' (moov atom not found).\n",
      "Skipping 173_02.MOV: ID 173 and Phase 2 already in DataFrame.\n",
      "Skipping 314_01.MOV: ID 314 and Phase 1 already in DataFrame.\n",
      "Skipping 227_02.MOV: ID 227 and Phase 2 already in DataFrame.\n",
      "Skipping 85_02.MOV: ID 85 and Phase 2 already in DataFrame.\n",
      "Skipping 184_02.MOV: ID 184 and Phase 2 already in DataFrame.\n",
      "Skipping 159_01.MOV: ID 159 and Phase 1 already in DataFrame.\n",
      "Skipping 315_01.MOV: ID 315 and Phase 1 already in DataFrame.\n",
      "Skipping 239_03.MOV: ID 239 and Phase 3 already in DataFrame.\n",
      "Skipping 27-01.MOV: ID 27 and Phase 1 already in DataFrame.\n",
      "Skipping 147_01.MOV: ID 147 and Phase 1 already in DataFrame.\n",
      "Skipping 126_02.MOV: ID 126 and Phase 2 already in DataFrame.\n",
      "Skipping 106_01.MOV: ID 106 and Phase 1 already in DataFrame.\n",
      "Skipping 185_02.MOV: ID 185 and Phase 2 already in DataFrame.\n",
      "Error: Could not open video '61_02.MOV' (moov atom not found).\n",
      "Error: Could not open video '60_01.MOV' (moov atom not found).\n",
      "Skipping 123_03.MOV: ID 123 and Phase 3 already in DataFrame.\n",
      "Skipping 71_03.MOV: ID 71 and Phase 3 already in DataFrame.\n",
      "Skipping 210_01.MOV: ID 210 and Phase 1 already in DataFrame.\n",
      "Skipping 280_02.MOV: ID 280 and Phase 2 already in DataFrame.\n"
     ]
    },
    {
     "name": "stderr",
     "output_type": "stream",
     "text": [
      "[mov,mp4,m4a,3gp,3g2,mj2 @ 0x55d136061980] moov atom not found\n",
      "[mov,mp4,m4a,3gp,3g2,mj2 @ 0x55d136443480] moov atom not found\n",
      "[mov,mp4,m4a,3gp,3g2,mj2 @ 0x55d1360647c0] moov atom not found\n",
      "[mov,mp4,m4a,3gp,3g2,mj2 @ 0x55d136066cc0] moov atom not found\n"
     ]
    },
    {
     "name": "stdout",
     "output_type": "stream",
     "text": [
      "Error: Could not open video '25-02.MOV' (moov atom not found).\n",
      "Skipping 15-01.MOV: ID 15 and Phase 1 already in DataFrame.\n",
      "Skipping 182_01.MOV: ID 182 and Phase 1 already in DataFrame.\n",
      "Skipping 199_01.MOV: ID 199 and Phase 1 already in DataFrame.\n",
      "Skipping 95_01.MOV: ID 95 and Phase 1 already in DataFrame.\n",
      "Error: Could not open video '30_02.MOV' (moov atom not found).\n",
      "Skipping 193_03.MOV: ID 193 and Phase 3 already in DataFrame.\n",
      "Error: Could not open video '50_02.MOV' (moov atom not found).\n",
      "Skipping 165_02.MOV: ID 165 and Phase 2 already in DataFrame.\n",
      "Skipping 111_02.MOV: ID 111 and Phase 2 already in DataFrame.\n",
      "Error: Could not open video '24-02.MOV' (moov atom not found).\n"
     ]
    },
    {
     "name": "stderr",
     "output_type": "stream",
     "text": [
      "[mov,mp4,m4a,3gp,3g2,mj2 @ 0x55d136060700] moov atom not found\n",
      "[mov,mp4,m4a,3gp,3g2,mj2 @ 0x55d136061980] moov atom not found\n",
      "[mov,mp4,m4a,3gp,3g2,mj2 @ 0x55d1360647c0] moov atom not found\n",
      "[mov,mp4,m4a,3gp,3g2,mj2 @ 0x55d136066cc0] moov atom not found\n"
     ]
    },
    {
     "name": "stdout",
     "output_type": "stream",
     "text": [
      "Error: Could not open video '23-01.MOV' (moov atom not found).\n",
      "Error: Could not open video '46_01.MOV' (moov atom not found).\n",
      "Skipping 225_02.MOV: ID 225 and Phase 2 already in DataFrame.\n",
      "Error: Could not open video '49_01.MOV' (moov atom not found).\n",
      "Skipping 124_01.MOV: ID 124 and Phase 1 already in DataFrame.\n",
      "Skipping 101_02.MOV: ID 101 and Phase 2 already in DataFrame.\n",
      "Skipping 290_01.MOV: ID 290 and Phase 1 already in DataFrame.\n",
      "Skipping 319_02.MOV: ID 319 and Phase 2 already in DataFrame.\n",
      "Error: Could not open video '72_02.MOV' (moov atom not found).\n",
      "Skipping 244_03.MOV: ID 244 and Phase 3 already in DataFrame.\n",
      "Skipping 131_02.MOV: ID 131 and Phase 2 already in DataFrame.\n",
      "Skipping 180_03.MOV: ID 180 and Phase 3 already in DataFrame.\n",
      "Skipping 140_01.MOV: ID 140 and Phase 1 already in DataFrame.\n",
      "Skipping 122_03.MOV: ID 122 and Phase 3 already in DataFrame.\n"
     ]
    },
    {
     "name": "stderr",
     "output_type": "stream",
     "text": [
      "[mov,mp4,m4a,3gp,3g2,mj2 @ 0x55d136060700] moov atom not found\n",
      "[mov,mp4,m4a,3gp,3g2,mj2 @ 0x55d136061980] moov atom not found\n",
      "[mov,mp4,m4a,3gp,3g2,mj2 @ 0x55d1360647c0] moov atom not found\n",
      "[mov,mp4,m4a,3gp,3g2,mj2 @ 0x55d136066cc0] moov atom not found\n"
     ]
    },
    {
     "name": "stdout",
     "output_type": "stream",
     "text": [
      "Error: Could not open video '34_03.MOV' (moov atom not found).\n",
      "Error: Could not open video '43_02.MOV' (moov atom not found).\n",
      "Error: Could not open video '53_03.MOV' (moov atom not found).\n",
      "Skipping 200_01.MOV: ID 200 and Phase 1 already in DataFrame.\n",
      "Skipping 188_01.MOV: ID 188 and Phase 1 already in DataFrame.\n",
      "Error: Could not open video '21-02.MOV' (moov atom not found).\n",
      "Skipping 203_03.MOV: ID 203 and Phase 3 already in DataFrame.\n"
     ]
    },
    {
     "name": "stderr",
     "output_type": "stream",
     "text": [
      "[mov,mp4,m4a,3gp,3g2,mj2 @ 0x55d136060700] moov atom not found\n",
      "[mov,mp4,m4a,3gp,3g2,mj2 @ 0x55d136061980] moov atom not found\n",
      "[mov,mp4,m4a,3gp,3g2,mj2 @ 0x55d1360647c0] moov atom not found\n",
      "[mov,mp4,m4a,3gp,3g2,mj2 @ 0x55d136066cc0] moov atom not found\n"
     ]
    },
    {
     "name": "stdout",
     "output_type": "stream",
     "text": [
      "Error: Could not open video '37_01.MOV' (moov atom not found).\n",
      "Skipping 148_03.MOV: ID 148 and Phase 3 already in DataFrame.\n",
      "Skipping 229_02.MOV: ID 229 and Phase 2 already in DataFrame.\n",
      "Skipping 150_02.MOV: ID 150 and Phase 2 already in DataFrame.\n",
      "Skipping 181_02.MOV: ID 181 and Phase 2 already in DataFrame.\n",
      "Error: Could not open video '67_01.MOV' (moov atom not found).\n",
      "Skipping 73_01.MOV: ID 73 and Phase 1 already in DataFrame.\n",
      "Skipping 304_01.MOV: ID 304 and Phase 1 already in DataFrame.\n",
      "Skipping 204_01.MOV: ID 204 and Phase 1 already in DataFrame.\n",
      "Skipping 299_01.MOV: ID 299 and Phase 1 already in DataFrame.\n",
      "Skipping 295_01.MOV: ID 295 and Phase 1 already in DataFrame.\n",
      "Skipping 316_01.MOV: ID 316 and Phase 1 already in DataFrame.\n",
      "Skipping 93_02.MOV: ID 93 and Phase 2 already in DataFrame.\n",
      "Skipping 105_01.MOV: ID 105 and Phase 1 already in DataFrame.\n",
      "Error: Could not open video '65_01.MOV' (moov atom not found).\n",
      "Error: Could not open video '66_02.MOV' (moov atom not found).\n",
      "Skipping 34_02.MOV: ID 34 and Phase 2 already in DataFrame.\n",
      "Skipping 122_02.MOV: ID 122 and Phase 2 already in DataFrame.\n",
      "Skipping 130_02.MOV: ID 130 and Phase 2 already in DataFrame.\n",
      "Skipping 165_03.MOV: ID 165 and Phase 3 already in DataFrame.\n",
      "Skipping 246_03.MOV: ID 246 and Phase 3 already in DataFrame.\n",
      "Skipping 26-01.MOV: ID 26 and Phase 1 already in DataFrame.\n"
     ]
    },
    {
     "name": "stderr",
     "output_type": "stream",
     "text": [
      "[mov,mp4,m4a,3gp,3g2,mj2 @ 0x55d136060700] moov atom not found\n",
      "[mov,mp4,m4a,3gp,3g2,mj2 @ 0x55d136061980] moov atom not found\n",
      "[mov,mp4,m4a,3gp,3g2,mj2 @ 0x55d1360647c0] moov atom not found\n"
     ]
    },
    {
     "name": "stdout",
     "output_type": "stream",
     "text": [
      "Error: Could not open video '52_03.MOV' (moov atom not found).\n",
      "Error: Could not open video '42_02.MOV' (moov atom not found).\n",
      "Skipping 41_01.MOV: ID 41 and Phase 1 already in DataFrame.\n",
      "Skipping 102_01.MOV: ID 102 and Phase 1 already in DataFrame.\n",
      "Skipping 87_01.MOV: ID 87 and Phase 1 already in DataFrame.\n",
      "Skipping 227_03.MOV: ID 227 and Phase 3 already in DataFrame.\n",
      "Skipping 102_02.MOV: ID 102 and Phase 2 already in DataFrame.\n",
      "Skipping 167_02.MOV: ID 167 and Phase 2 already in DataFrame.\n",
      "Skipping 186_02.MOV: ID 186 and Phase 2 already in DataFrame.\n",
      "Skipping 40_02.MOV: ID 40 and Phase 2 already in DataFrame.\n",
      "Skipping 262_01.MOV: ID 262 and Phase 1 already in DataFrame.\n",
      "Skipping 121_01.MOV: ID 121 and Phase 1 already in DataFrame.\n",
      "Skipping 162_02.MOV: ID 162 and Phase 2 already in DataFrame.\n",
      "Skipping 301_02.MOV: ID 301 and Phase 2 already in DataFrame.\n",
      "Skipping 251_03.MOV: ID 251 and Phase 3 already in DataFrame.\n",
      "Skipping 316_02.MOV: ID 316 and Phase 2 already in DataFrame.\n",
      "Skipping 287_01.MOV: ID 287 and Phase 1 already in DataFrame.\n",
      "Skipping 255_02.MOV: ID 255 and Phase 2 already in DataFrame.\n",
      "Skipping 204_02.MOV: ID 204 and Phase 2 already in DataFrame.\n",
      "Skipping 139_02.MOV: ID 139 and Phase 2 already in DataFrame.\n",
      "Skipping 112_02.MOV: ID 112 and Phase 2 already in DataFrame.\n",
      "Skipping 235-03.MOV: ID 235 and Phase 3 already in DataFrame.\n",
      "Skipping 237_03.MOV: ID 237 and Phase 3 already in DataFrame.\n",
      "Skipping 198_02.MOV: ID 198 and Phase 2 already in DataFrame.\n",
      "Skipping 141_03.MOV: ID 141 and Phase 3 already in DataFrame.\n",
      "Error: Could not open video '47_02.MOV' (moov atom not found).\n",
      "Skipping 292_01.MOV: ID 292 and Phase 1 already in DataFrame.\n",
      "Skipping 134_01.MOV: ID 134 and Phase 1 already in DataFrame.\n",
      "Skipping 247_02.MOV: ID 247 and Phase 2 already in DataFrame.\n",
      "Skipping 223_02.MOV: ID 223 and Phase 2 already in DataFrame.\n",
      "Skipping 318_02.MOV: ID 318 and Phase 2 already in DataFrame.\n",
      "Skipping 149_03.MOV: ID 149 and Phase 3 already in DataFrame.\n",
      "Skipping 146_02.MOV: ID 146 and Phase 2 already in DataFrame.\n",
      "Skipping 119_01.MOV: ID 119 and Phase 1 already in DataFrame.\n",
      "Skipping 221_02.MOV: ID 221 and Phase 2 already in DataFrame.\n",
      "Skipping 88_01.MOV: ID 88 and Phase 1 already in DataFrame.\n",
      "Skipping 243_01.MOV: ID 243 and Phase 1 already in DataFrame.\n"
     ]
    },
    {
     "name": "stderr",
     "output_type": "stream",
     "text": [
      "[mov,mp4,m4a,3gp,3g2,mj2 @ 0x55d136066cc0] moov atom not found\n",
      "[mov,mp4,m4a,3gp,3g2,mj2 @ 0x55d136060700] moov atom not found\n",
      "[mov,mp4,m4a,3gp,3g2,mj2 @ 0x55d136061980] moov atom not found\n",
      "[mov,mp4,m4a,3gp,3g2,mj2 @ 0x55d1360647c0] moov atom not found\n"
     ]
    },
    {
     "name": "stdout",
     "output_type": "stream",
     "text": [
      "Error: Could not open video '64_03.MOV' (moov atom not found).\n",
      "Error: Could not open video '54_02.MOV' (moov atom not found).\n",
      "Skipping 321_02.MOV: ID 321 and Phase 2 already in DataFrame.\n",
      "Skipping 140_02.MOV: ID 140 and Phase 2 already in DataFrame.\n",
      "Skipping 86_03.MOV: ID 86 and Phase 3 already in DataFrame.\n",
      "Skipping 195_01.MOV: ID 195 and Phase 1 already in DataFrame.\n",
      "Skipping 6-02.MOV: ID 6 and Phase 2 already in DataFrame.\n",
      "Skipping 9-02.MOV: ID 9 and Phase 2 already in DataFrame.\n",
      "Skipping 310_01.MOV: ID 310 and Phase 1 already in DataFrame.\n",
      "Skipping 157_03.MOV: ID 157 and Phase 3 already in DataFrame.\n",
      "Error: Could not open video '39_03.MOV' (moov atom not found).\n",
      "Skipping 16-01.MOV: ID 16 and Phase 1 already in DataFrame.\n",
      "Skipping 220_03.MOV: ID 220 and Phase 3 already in DataFrame.\n",
      "Skipping 216_02.MOV: ID 216 and Phase 2 already in DataFrame.\n",
      "Skipping 142_03.MOV: ID 142 and Phase 3 already in DataFrame.\n",
      "Skipping 161_01.MOV: ID 161 and Phase 1 already in DataFrame.\n",
      "Skipping 155_02.MOV: ID 155 and Phase 2 already in DataFrame.\n",
      "Skipping 152_01.MOV: ID 152 and Phase 1 already in DataFrame.\n",
      "Skipping 107_01.MOV: ID 107 and Phase 1 already in DataFrame.\n",
      "Skipping 109_02.MOV: ID 109 and Phase 2 already in DataFrame.\n",
      "Skipping 175_02.MOV: ID 175 and Phase 2 already in DataFrame.\n",
      "Error: Could not open video '49_03.MOV' (moov atom not found).\n",
      "Skipping 107_03.MOV: ID 107 and Phase 3 already in DataFrame.\n",
      "Skipping 285_01.MOV: ID 285 and Phase 1 already in DataFrame.\n",
      "Skipping 118_02.MOV: ID 118 and Phase 2 already in DataFrame.\n"
     ]
    },
    {
     "name": "stderr",
     "output_type": "stream",
     "text": [
      "[mov,mp4,m4a,3gp,3g2,mj2 @ 0x55d13605fdc0] moov atom not found\n",
      "[mov,mp4,m4a,3gp,3g2,mj2 @ 0x55d136061040] moov atom not found\n",
      "[mov,mp4,m4a,3gp,3g2,mj2 @ 0x55d136443480] moov atom not found\n",
      "[mov,mp4,m4a,3gp,3g2,mj2 @ 0x55d13605fdc0] moov atom not found\n"
     ]
    },
    {
     "name": "stdout",
     "output_type": "stream",
     "text": [
      "Error: Could not open video '25-01.MOV' (moov atom not found).\n",
      "Error: Could not open video '57_02.MOV' (moov atom not found).\n",
      "Skipping 171_01.MOV: ID 171 and Phase 1 already in DataFrame.\n",
      "Skipping 253_02.MOV: ID 253 and Phase 2 already in DataFrame.\n",
      "Skipping 245_01.MOV: ID 245 and Phase 1 already in DataFrame.\n",
      "Skipping 166_02.MOV: ID 166 and Phase 2 already in DataFrame.\n",
      "Skipping 184_01.MOV: ID 184 and Phase 1 already in DataFrame.\n",
      "Error: Could not open video '34_01.MOV' (moov atom not found).\n",
      "Skipping 174_03.MOV: ID 174 and Phase 3 already in DataFrame.\n",
      "Skipping 278_02.MOV: ID 278 and Phase 2 already in DataFrame.\n",
      "Skipping 10-01.MOV: ID 10 and Phase 1 already in DataFrame.\n",
      "Skipping 308_02.MOV: ID 308 and Phase 2 already in DataFrame.\n",
      "Skipping 172_02.MOV: ID 172 and Phase 2 already in DataFrame.\n",
      "Skipping 91_01.MOV: ID 91 and Phase 1 already in DataFrame.\n",
      "Skipping 236_03.MOV: ID 236 and Phase 3 already in DataFrame.\n",
      "Skipping 61_01.MOV: ID 61 and Phase 1 already in DataFrame.\n",
      "Skipping 245_02.MOV: ID 245 and Phase 2 already in DataFrame.\n",
      "Skipping 164_03.MOV: ID 164 and Phase 3 already in DataFrame.\n",
      "Skipping 286_02.MOV: ID 286 and Phase 2 already in DataFrame.\n",
      "Skipping 251_01.MOV: ID 251 and Phase 1 already in DataFrame.\n",
      "Skipping 191_02.MOV: ID 191 and Phase 2 already in DataFrame.\n",
      "Skipping 90_01.MOV: ID 90 and Phase 1 already in DataFrame.\n",
      "Skipping 250_03.MOV: ID 250 and Phase 3 already in DataFrame.\n",
      "Skipping 260_02.MOV: ID 260 and Phase 2 already in DataFrame.\n",
      "Skipping 156_03.MOV: ID 156 and Phase 3 already in DataFrame.\n",
      "Skipping 24-03.MOV: ID 24 and Phase 3 already in DataFrame.\n",
      "Skipping 14-02.MOV: ID 14 and Phase 2 already in DataFrame.\n",
      "Skipping 95_02.MOV: ID 95 and Phase 2 already in DataFrame.\n",
      "Skipping 156_02.MOV: ID 156 and Phase 2 already in DataFrame.\n",
      "Skipping 127_03.MOV: ID 127 and Phase 3 already in DataFrame.\n",
      "Skipping 154_03.MOV: ID 154 and Phase 3 already in DataFrame.\n",
      "Skipping 234_01.MOV: ID 234 and Phase 1 already in DataFrame.\n",
      "Skipping 209_02.MOV: ID 209 and Phase 2 already in DataFrame.\n",
      "Skipping 109_01.MOV: ID 109 and Phase 1 already in DataFrame.\n",
      "Skipping 47_01.MOV: ID 47 and Phase 1 already in DataFrame.\n",
      "Skipping 303_02.MOV: ID 303 and Phase 2 already in DataFrame.\n",
      "Skipping 69_02.MOV: ID 69 and Phase 2 already in DataFrame.\n",
      "Skipping 221_01.MOV: ID 221 and Phase 1 already in DataFrame.\n",
      "Skipping 239_01.MOV: ID 239 and Phase 1 already in DataFrame.\n",
      "Skipping 5-01.MOV: ID 5 and Phase 1 already in DataFrame.\n",
      "Skipping 11-01.MOV: ID 11 and Phase 1 already in DataFrame.\n",
      "Skipping 144_02.MOV: ID 144 and Phase 2 already in DataFrame.\n",
      "Error: Could not open video '36_02.MOV' (moov atom not found).\n",
      "Skipping 317_02.MOV: ID 317 and Phase 2 already in DataFrame.\n",
      "Skipping 198_03.MOV: ID 198 and Phase 3 already in DataFrame.\n",
      "Skipping 185_01.MOV: ID 185 and Phase 1 already in DataFrame.\n",
      "Skipping 97_01.MOV: ID 97 and Phase 1 already in DataFrame.\n",
      "Skipping 78_01.MOV: ID 78 and Phase 1 already in DataFrame.\n",
      "Skipping 176_03.MOV: ID 176 and Phase 3 already in DataFrame.\n"
     ]
    },
    {
     "name": "stderr",
     "output_type": "stream",
     "text": [
      "[mov,mp4,m4a,3gp,3g2,mj2 @ 0x55d136061040] moov atom not found\n",
      "[mov,mp4,m4a,3gp,3g2,mj2 @ 0x55d136443480] moov atom not found\n",
      "[mov,mp4,m4a,3gp,3g2,mj2 @ 0x55d136061040] moov atom not found\n"
     ]
    },
    {
     "name": "stdout",
     "output_type": "stream",
     "text": [
      "Error: Could not open video '62_02.MOV' (moov atom not found).\n",
      "Skipping 12-01.MOV: ID 12 and Phase 1 already in DataFrame.\n",
      "Skipping 234_02.MOV: ID 234 and Phase 2 already in DataFrame.\n",
      "Skipping 300_01.MOV: ID 300 and Phase 1 already in DataFrame.\n",
      "Skipping 307_01.MOV: ID 307 and Phase 1 already in DataFrame.\n",
      "Skipping 112_01.MOV: ID 112 and Phase 1 already in DataFrame.\n",
      "Skipping 216_01.MOV: ID 216 and Phase 1 already in DataFrame.\n",
      "Skipping 93_01.MOV: ID 93 and Phase 1 already in DataFrame.\n",
      "Skipping 156_01.MOV: ID 156 and Phase 1 already in DataFrame.\n",
      "Skipping 296_02.MOV: ID 296 and Phase 2 already in DataFrame.\n",
      "Skipping 180_02.MOV: ID 180 and Phase 2 already in DataFrame.\n",
      "Error: Could not open video '64_02.MOV' (moov atom not found).\n",
      "Skipping 196_01.MOV: ID 196 and Phase 1 already in DataFrame.\n",
      "Skipping 201_01.MOV: ID 201 and Phase 1 already in DataFrame.\n",
      "Skipping 144_01.MOV: ID 144 and Phase 1 already in DataFrame.\n",
      "Skipping 143_03.MOV: ID 143 and Phase 3 already in DataFrame.\n",
      "Skipping 98_01.MOV: ID 98 and Phase 1 already in DataFrame.\n",
      "Skipping 311_01.MOV: ID 311 and Phase 1 already in DataFrame.\n",
      "Skipping 184_03.MOV: ID 184 and Phase 3 already in DataFrame.\n",
      "Skipping 160_01.MOV: ID 160 and Phase 1 already in DataFrame.\n",
      "Skipping 322_01.MOV: ID 322 and Phase 1 already in DataFrame.\n",
      "Skipping 176_02.MOV: ID 176 and Phase 2 already in DataFrame.\n",
      "Skipping 218_02.MOV: ID 218 and Phase 2 already in DataFrame.\n",
      "Skipping 300_02.MOV: ID 300 and Phase 2 already in DataFrame.\n",
      "Skipping 181_01.MOV: ID 181 and Phase 1 already in DataFrame.\n",
      "Skipping 282_01.MOV: ID 282 and Phase 1 already in DataFrame.\n",
      "Error: Could not open video '50_01.MOV' (moov atom not found).\n",
      "Skipping 206_03.MOV: ID 206 and Phase 3 already in DataFrame.\n",
      "Skipping 178_01.MOV: ID 178 and Phase 1 already in DataFrame.\n",
      "Skipping 312_01.MOV: ID 312 and Phase 1 already in DataFrame.\n",
      "Skipping 105_02.MOV: ID 105 and Phase 2 already in DataFrame.\n",
      "Skipping 309_02.MOV: ID 309 and Phase 2 already in DataFrame.\n",
      "Skipping 256_03.MOV: ID 256 and Phase 3 already in DataFrame.\n",
      "Skipping 248_02.MOV: ID 248 and Phase 2 already in DataFrame.\n"
     ]
    },
    {
     "name": "stderr",
     "output_type": "stream",
     "text": [
      "W0000 00:00:1731315218.227321   42274 inference_feedback_manager.cc:114] Feedback manager requires a model with a single signature inference. Disabling support for feedback tensors.\n"
     ]
    },
    {
     "name": "stdout",
     "output_type": "stream",
     "text": [
      "An error occurred while processing '319_01.MOV': `distance` must be greater or equal to 1\n",
      "Skipping 166_01.MOV: ID 166 and Phase 1 already in DataFrame.\n",
      "Skipping 320_02.MOV: ID 320 and Phase 2 already in DataFrame.\n",
      "Skipping 243_02.MOV: ID 243 and Phase 2 already in DataFrame.\n",
      "Skipping 201_02.MOV: ID 201 and Phase 2 already in DataFrame.\n",
      "Skipping 288_02.MOV: ID 288 and Phase 2 already in DataFrame.\n",
      "Skipping 18-02.MOV: ID 18 and Phase 2 already in DataFrame.\n",
      "Skipping 142_02.MOV: ID 142 and Phase 2 already in DataFrame.\n",
      "Skipping 36_01.MOV: ID 36 and Phase 1 already in DataFrame.\n",
      "Skipping 299_02.MOV: ID 299 and Phase 2 already in DataFrame.\n",
      "Error: Could not open video '44_02.MOV' (moov atom not found).\n",
      "Error: Could not open video '54_03.MOV' (moov atom not found).\n",
      "Skipping 255_03.MOV: ID 255 and Phase 3 already in DataFrame.\n",
      "Skipping 20-02.MOV: ID 20 and Phase 2 already in DataFrame.\n"
     ]
    },
    {
     "name": "stderr",
     "output_type": "stream",
     "text": [
      "[mov,mp4,m4a,3gp,3g2,mj2 @ 0x55d1367b4fc0] moov atom not found\n",
      "[mov,mp4,m4a,3gp,3g2,mj2 @ 0x55d1360647c0] moov atom not found\n",
      "[mov,mp4,m4a,3gp,3g2,mj2 @ 0x55d1360647c0] moov atom not found\n",
      "[mov,mp4,m4a,3gp,3g2,mj2 @ 0x55d1360647c0] moov atom not found\n"
     ]
    },
    {
     "name": "stdout",
     "output_type": "stream",
     "text": [
      "Error: Could not open video '37_02.MOV' (moov atom not found).\n",
      "Skipping 231_02.MOV: ID 231 and Phase 2 already in DataFrame.\n",
      "Skipping 118_01.MOV: ID 118 and Phase 1 already in DataFrame.\n",
      "Skipping 147_02.MOV: ID 147 and Phase 2 already in DataFrame.\n",
      "Error: Could not open video '32_02.MOV' (moov atom not found).\n",
      "Skipping 172_01.MOV: ID 172 and Phase 1 already in DataFrame.\n",
      "Skipping 132_02.MOV: ID 132 and Phase 2 already in DataFrame.\n",
      "Skipping 281_02.MOV: ID 281 and Phase 2 already in DataFrame.\n",
      "Skipping 287_02.MOV: ID 287 and Phase 2 already in DataFrame.\n",
      "Skipping 122_01.MOV: ID 122 and Phase 1 already in DataFrame.\n",
      "Skipping 226_02.MOV: ID 226 and Phase 2 already in DataFrame.\n",
      "Error: Could not open video '35_01.MOV' (moov atom not found).\n",
      "Skipping 261-03.MOV: ID 261 and Phase 3 already in DataFrame.\n",
      "Skipping 207_02.MOV: ID 207 and Phase 2 already in DataFrame.\n",
      "Skipping 148_01.MOV: ID 148 and Phase 1 already in DataFrame.\n",
      "Skipping 326_01.MOV: ID 326 and Phase 1 already in DataFrame.\n",
      "Skipping 112_03.MOV: ID 112 and Phase 3 already in DataFrame.\n",
      "Skipping 228_01.MOV: ID 228 and Phase 1 already in DataFrame.\n",
      "Skipping 114_02.MOV: ID 114 and Phase 2 already in DataFrame.\n",
      "Skipping 77_02.MOV: ID 77 and Phase 2 already in DataFrame.\n",
      "Skipping 303_01.MOV: ID 303 and Phase 1 already in DataFrame.\n",
      "Skipping 16-02.MOV: ID 16 and Phase 2 already in DataFrame.\n"
     ]
    },
    {
     "name": "stderr",
     "output_type": "stream",
     "text": [
      "[mov,mp4,m4a,3gp,3g2,mj2 @ 0x55d1360647c0] moov atom not found\n",
      "[mov,mp4,m4a,3gp,3g2,mj2 @ 0x55d1360647c0] moov atom not found\n",
      "[mov,mp4,m4a,3gp,3g2,mj2 @ 0x55d1360647c0] moov atom not found\n"
     ]
    },
    {
     "name": "stdout",
     "output_type": "stream",
     "text": [
      "Error: Could not open video '67_02.MOV' (moov atom not found).\n",
      "Skipping 207_03.MOV: ID 207 and Phase 3 already in DataFrame.\n",
      "Skipping 297_01.MOV: ID 297 and Phase 1 already in DataFrame.\n",
      "Skipping 134_03.MOV: ID 134 and Phase 3 already in DataFrame.\n",
      "Skipping 294_01.MOV: ID 294 and Phase 1 already in DataFrame.\n",
      "Skipping 178_02.MOV: ID 178 and Phase 2 already in DataFrame.\n",
      "Skipping 125_01.MOV: ID 125 and Phase 1 already in DataFrame.\n",
      "Error: Could not open video '29_03.MOV' (moov atom not found).\n",
      "Skipping 257_02.MOV: ID 257 and Phase 2 already in DataFrame.\n",
      "Skipping 113_03.MOV: ID 113 and Phase 3 already in DataFrame.\n",
      "Skipping 151_01.MOV: ID 151 and Phase 1 already in DataFrame.\n",
      "Error: Could not open video '43_01.MOV' (moov atom not found).\n",
      "Skipping 252_03.MOV: ID 252 and Phase 3 already in DataFrame.\n",
      "Skipping 74_01.MOV: ID 74 and Phase 1 already in DataFrame.\n",
      "Skipping 298_02.MOV: ID 298 and Phase 2 already in DataFrame.\n",
      "Error: Could not open video '56_02.MOV' (moov atom not found).\n",
      "Skipping 219_01.MOV: ID 219 and Phase 1 already in DataFrame.\n",
      "Skipping 28_02.MOV: ID 28 and Phase 2 already in DataFrame.\n",
      "Skipping 6-01.MOV: ID 6 and Phase 1 already in DataFrame.\n",
      "Skipping 141_01.MOV: ID 141 and Phase 1 already in DataFrame.\n",
      "Skipping 174_01.MOV: ID 174 and Phase 1 already in DataFrame.\n",
      "Skipping 256_01.MOV: ID 256 and Phase 1 already in DataFrame.\n"
     ]
    },
    {
     "name": "stderr",
     "output_type": "stream",
     "text": [
      "[mov,mp4,m4a,3gp,3g2,mj2 @ 0x55d1360647c0] moov atom not found\n",
      "[mov,mp4,m4a,3gp,3g2,mj2 @ 0x55d1360647c0] moov atom not found\n",
      "[mov,mp4,m4a,3gp,3g2,mj2 @ 0x55d1360647c0] moov atom not found\n",
      "[mov,mp4,m4a,3gp,3g2,mj2 @ 0x55d1360647c0] moov atom not found\n"
     ]
    },
    {
     "name": "stdout",
     "output_type": "stream",
     "text": [
      "Error: Could not open video '35_02.MOV' (moov atom not found).\n",
      "Skipping 198_01.MOV: ID 198 and Phase 1 already in DataFrame.\n",
      "Skipping 110_02.MOV: ID 110 and Phase 2 already in DataFrame.\n",
      "Skipping 208_01.MOV: ID 208 and Phase 1 already in DataFrame.\n",
      "Skipping 182_02.MOV: ID 182 and Phase 2 already in DataFrame.\n",
      "Skipping 135_02.MOV: ID 135 and Phase 2 already in DataFrame.\n",
      "Skipping 28_01.MOV: ID 28 and Phase 1 already in DataFrame.\n",
      "Skipping 292_02.MOV: ID 292 and Phase 2 already in DataFrame.\n",
      "Skipping 11-02.MOV: ID 11 and Phase 2 already in DataFrame.\n",
      "Skipping 261-01.MOV: ID 261 and Phase 1 already in DataFrame.\n",
      "Skipping 83_02.MOV: ID 83 and Phase 2 already in DataFrame.\n",
      "Skipping 162_01.MOV: ID 162 and Phase 1 already in DataFrame.\n",
      "Skipping 187_03.MOV: ID 187 and Phase 3 already in DataFrame.\n",
      "Skipping 106_02.MOV: ID 106 and Phase 2 already in DataFrame.\n",
      "Skipping 189_03.MOV: ID 189 and Phase 3 already in DataFrame.\n",
      "Skipping 127_01.MOV: ID 127 and Phase 1 already in DataFrame.\n",
      "Skipping 228_03.MOV: ID 228 and Phase 3 already in DataFrame.\n",
      "Skipping 332_02.MOV: ID 332 and Phase 2 already in DataFrame.\n",
      "Skipping 260_01.MOV: ID 260 and Phase 1 already in DataFrame.\n",
      "Skipping 231_03.MOV: ID 231 and Phase 3 already in DataFrame.\n",
      "Error: Could not open video '69_01.MOV' (moov atom not found).\n",
      "Skipping 328_02.MOV: ID 328 and Phase 2 already in DataFrame.\n",
      "Skipping 22-01.MOV: ID 22 and Phase 1 already in DataFrame.\n",
      "Skipping 19-01.MOV: ID 19 and Phase 1 already in DataFrame.\n",
      "Skipping 138_03.MOV: ID 138 and Phase 3 already in DataFrame.\n",
      "Skipping 170_02.MOV: ID 170 and Phase 2 already in DataFrame.\n",
      "Skipping 108_01.MOV: ID 108 and Phase 1 already in DataFrame.\n",
      "Error: Could not open video '32_01.MOV' (moov atom not found).\n",
      "Skipping 331_02.MOV: ID 331 and Phase 2 already in DataFrame.\n",
      "Error: Could not open video '45_03.MOV' (moov atom not found).\n",
      "Skipping 193_02.MOV: ID 193 and Phase 2 already in DataFrame.\n",
      "Skipping 154_02.MOV: ID 154 and Phase 2 already in DataFrame.\n",
      "Skipping 153_03.MOV: ID 153 and Phase 3 already in DataFrame.\n"
     ]
    },
    {
     "name": "stderr",
     "output_type": "stream",
     "text": [
      "[mov,mp4,m4a,3gp,3g2,mj2 @ 0x55d13712eec0] moov atom not found\n",
      "[mov,mp4,m4a,3gp,3g2,mj2 @ 0x55d13712eec0] moov atom not found\n",
      "[mov,mp4,m4a,3gp,3g2,mj2 @ 0x55d13712eec0] moov atom not found\n",
      "[mov,mp4,m4a,3gp,3g2,mj2 @ 0x55d1370c9780] moov atom not found\n"
     ]
    },
    {
     "name": "stdout",
     "output_type": "stream",
     "text": [
      "Error: Could not open video '75_02.MOV' (moov atom not found).\n",
      "Error: Could not open video '45_01.MOV' (moov atom not found).\n",
      "Skipping 137_01.MOV: ID 137 and Phase 1 already in DataFrame.\n",
      "Skipping 197_01.MOV: ID 197 and Phase 1 already in DataFrame.\n",
      "Skipping 222_01.MOV: ID 222 and Phase 1 already in DataFrame.\n",
      "Skipping 17-01.MOV: ID 17 and Phase 1 already in DataFrame.\n",
      "Skipping 326_02.MOV: ID 326 and Phase 2 already in DataFrame.\n",
      "Error: Could not open video '68_01.MOV' (moov atom not found).\n",
      "Skipping 277_01.MOV: ID 277 and Phase 1 already in DataFrame.\n",
      "Skipping 262_03.MOV: ID 262 and Phase 3 already in DataFrame.\n"
     ]
    },
    {
     "name": "stderr",
     "output_type": "stream",
     "text": [
      "[mov,mp4,m4a,3gp,3g2,mj2 @ 0x55d1370c9780] moov atom not found\n",
      "[mov,mp4,m4a,3gp,3g2,mj2 @ 0x55d1370c9780] moov atom not found\n",
      "[mov,mp4,m4a,3gp,3g2,mj2 @ 0x55d1370c9780] moov atom not found\n",
      "[mov,mp4,m4a,3gp,3g2,mj2 @ 0x55d1370c9780] moov atom not found\n"
     ]
    },
    {
     "name": "stdout",
     "output_type": "stream",
     "text": [
      "Error: Could not open video '52_02.MOV' (moov atom not found).\n",
      "Skipping 241_02.MOV: ID 241 and Phase 2 already in DataFrame.\n",
      "Skipping 87_02.MOV: ID 87 and Phase 2 already in DataFrame.\n",
      "Skipping 253_01.MOV: ID 253 and Phase 1 already in DataFrame.\n",
      "Skipping 224_03.MOV: ID 224 and Phase 3 already in DataFrame.\n",
      "Skipping 250_01.MOV: ID 250 and Phase 1 already in DataFrame.\n",
      "Skipping 211_02.MOV: ID 211 and Phase 2 already in DataFrame.\n",
      "Skipping 302_01.MOV: ID 302 and Phase 1 already in DataFrame.\n",
      "Error: Could not open video '33_01.MOV' (moov atom not found).\n",
      "Skipping 163_01.MOV: ID 163 and Phase 1 already in DataFrame.\n",
      "Skipping 320_01.MOV: ID 320 and Phase 1 already in DataFrame.\n",
      "Error: Could not open video '39_02.MOV' (moov atom not found).\n",
      "Skipping 90_02.MOV: ID 90 and Phase 2 already in DataFrame.\n",
      "Skipping 119_02.MOV: ID 119 and Phase 2 already in DataFrame.\n",
      "Skipping 168_03.MOV: ID 168 and Phase 3 already in DataFrame.\n",
      "Skipping 302_02.MOV: ID 302 and Phase 2 already in DataFrame.\n",
      "Skipping 139_01.MOV: ID 139 and Phase 1 already in DataFrame.\n",
      "Skipping 257_01.MOV: ID 257 and Phase 1 already in DataFrame.\n",
      "Skipping 188_02.MOV: ID 188 and Phase 2 already in DataFrame.\n",
      "Error: Could not open video '68_02.MOV' (moov atom not found).\n",
      "Skipping 75_01.MOV: ID 75 and Phase 1 already in DataFrame.\n",
      "Skipping 197_02.MOV: ID 197 and Phase 2 already in DataFrame.\n",
      "Skipping 176_01.MOV: ID 176 and Phase 1 already in DataFrame.\n",
      "Skipping 119_03.MOV: ID 119 and Phase 3 already in DataFrame.\n",
      "Skipping 151_02.MOV: ID 151 and Phase 2 already in DataFrame.\n",
      "Skipping 222_03.MOV: ID 222 and Phase 3 already in DataFrame.\n",
      "Skipping 75_03.MOV: ID 75 and Phase 3 already in DataFrame.\n",
      "Skipping 258_01.MOV: ID 258 and Phase 1 already in DataFrame.\n",
      "Skipping 295_02.MOV: ID 295 and Phase 2 already in DataFrame.\n",
      "Skipping 188_03.MOV: ID 188 and Phase 3 already in DataFrame.\n",
      "Skipping 114_03.MOV: ID 114 and Phase 3 already in DataFrame.\n",
      "Skipping 186_01.MOV: ID 186 and Phase 1 already in DataFrame.\n"
     ]
    },
    {
     "name": "stderr",
     "output_type": "stream",
     "text": [
      "[mov,mp4,m4a,3gp,3g2,mj2 @ 0x55d1370c9780] moov atom not found\n",
      "W0000 00:00:1731315661.923001   42328 inference_feedback_manager.cc:114] Feedback manager requires a model with a single signature inference. Disabling support for feedback tensors.\n",
      "[h264 @ 0x55d1360a6c40] out of range intra chroma pred mode\n",
      "[h264 @ 0x55d1360a6c40] error while decoding MB 85 42\n",
      "[NULL @ 0x55d1367b6d00] Invalid NAL unit size (1201597382 > 101724).\n",
      "[NULL @ 0x55d1367b6d00] missing picture in access unit with size 101728\n",
      "[h264 @ 0x55d1360a6c40] Invalid NAL unit size (1201597382 > 101724).\n",
      "[h264 @ 0x55d1360a6c40] Error splitting the input into NAL units.\n"
     ]
    },
    {
     "name": "stdout",
     "output_type": "stream",
     "text": [
      "Not enough BPM data to calculate RMSSD.\n",
      "Skipping 242_01.MOV: ID 242 and Phase 1 already in DataFrame.\n",
      "Skipping 259_01.MOV: ID 259 and Phase 1 already in DataFrame.\n",
      "Skipping 296_01.MOV: ID 296 and Phase 1 already in DataFrame.\n",
      "Skipping 190_02.MOV: ID 190 and Phase 2 already in DataFrame.\n",
      "Error: Could not open video '61_03.MOV' (moov atom not found).\n",
      "Skipping 158_01.MOV: ID 158 and Phase 1 already in DataFrame.\n",
      "Error: Could not open video '65_02.MOV' (moov atom not found).\n",
      "Skipping 128_02.MOV: ID 128 and Phase 2 already in DataFrame.\n",
      "Skipping 155_01.MOV: ID 155 and Phase 1 already in DataFrame.\n",
      "Skipping 74_02.MOV: ID 74 and Phase 2 already in DataFrame.\n",
      "Skipping 98_02.MOV: ID 98 and Phase 2 already in DataFrame.\n",
      "Skipping 328_01.MOV: ID 328 and Phase 1 already in DataFrame.\n",
      "Skipping 129_02.MOV: ID 129 and Phase 2 already in DataFrame.\n",
      "Skipping 322_02.MOV: ID 322 and Phase 2 already in DataFrame.\n",
      "Error: Could not open video '53_01.MOV' (moov atom not found).\n"
     ]
    },
    {
     "name": "stderr",
     "output_type": "stream",
     "text": [
      "[mov,mp4,m4a,3gp,3g2,mj2 @ 0x55d136dbe700] moov atom not found\n",
      "[mov,mp4,m4a,3gp,3g2,mj2 @ 0x55d1360a3ac0] moov atom not found\n",
      "[mov,mp4,m4a,3gp,3g2,mj2 @ 0x55d136dbe700] moov atom not found\n",
      "[mov,mp4,m4a,3gp,3g2,mj2 @ 0x55d13643f280] moov atom not found\n",
      "[mov,mp4,m4a,3gp,3g2,mj2 @ 0x55d136dbe700] moov atom not found\n"
     ]
    },
    {
     "name": "stdout",
     "output_type": "stream",
     "text": [
      "Error: Could not open video '51_02.MOV' (moov atom not found).\n",
      "Skipping 116_01.MOV: ID 116 and Phase 1 already in DataFrame.\n",
      "Skipping 18-01.MOV: ID 18 and Phase 1 already in DataFrame.\n",
      "Skipping 158_02.MOV: ID 158 and Phase 2 already in DataFrame.\n",
      "Error: Could not open video '24-01.MOV' (moov atom not found).\n",
      "Error: Could not open video '31_01.MOV' (moov atom not found).\n",
      "Skipping 23-02.MOV: ID 23 and Phase 2 already in DataFrame.\n",
      "Error: Could not open video '54_01.MOV' (moov atom not found).\n",
      "Skipping 187_01.MOV: ID 187 and Phase 1 already in DataFrame.\n",
      "Skipping 31_03.MOV: ID 31 and Phase 3 already in DataFrame.\n",
      "Skipping 148_02.MOV: ID 148 and Phase 2 already in DataFrame.\n",
      "Skipping 152_02.MOV: ID 152 and Phase 2 already in DataFrame.\n",
      "Skipping 208_02.MOV: ID 208 and Phase 2 already in DataFrame.\n",
      "Skipping 314_02.MOV: ID 314 and Phase 2 already in DataFrame.\n",
      "Skipping 236_02.MOV: ID 236 and Phase 2 already in DataFrame.\n",
      "Skipping 104_01.MOV: ID 104 and Phase 1 already in DataFrame.\n",
      "Skipping 282_02.MOV: ID 282 and Phase 2 already in DataFrame.\n",
      "Skipping 127_02.MOV: ID 127 and Phase 2 already in DataFrame.\n",
      "Skipping 169_01.MOV: ID 169 and Phase 1 already in DataFrame.\n",
      "Skipping 79_01.MOV: ID 79 and Phase 1 already in DataFrame.\n",
      "Skipping 105_03.MOV: ID 105 and Phase 3 already in DataFrame.\n",
      "Skipping 115_02.MOV: ID 115 and Phase 2 already in DataFrame.\n",
      "Skipping 194_01.MOV: ID 194 and Phase 1 already in DataFrame.\n",
      "Skipping 331_01.MOV: ID 331 and Phase 1 already in DataFrame.\n",
      "Skipping 130_01.MOV: ID 130 and Phase 1 already in DataFrame.\n"
     ]
    },
    {
     "name": "stderr",
     "output_type": "stream",
     "text": [
      "[mov,mp4,m4a,3gp,3g2,mj2 @ 0x55d13643f280] moov atom not found\n",
      "[mov,mp4,m4a,3gp,3g2,mj2 @ 0x55d136dbe700] moov atom not found\n",
      "[mov,mp4,m4a,3gp,3g2,mj2 @ 0x55d136246e80] moov atom not found\n",
      "[mov,mp4,m4a,3gp,3g2,mj2 @ 0x55d136dbe700] moov atom not found\n"
     ]
    },
    {
     "name": "stdout",
     "output_type": "stream",
     "text": [
      "Error: Could not open video '78_02.MOV' (moov atom not found).\n",
      "Skipping 7-03.MOV: ID 7 and Phase 3 already in DataFrame.\n",
      "Error: Could not open video '57_03.MOV' (moov atom not found).\n",
      "Skipping 308_01.MOV: ID 308 and Phase 1 already in DataFrame.\n",
      "Skipping 251_02.MOV: ID 251 and Phase 2 already in DataFrame.\n",
      "Skipping 232_02.MOV: ID 232 and Phase 2 already in DataFrame.\n",
      "Skipping 248_01.MOV: ID 248 and Phase 1 already in DataFrame.\n",
      "Skipping 196_02.MOV: ID 196 and Phase 2 already in DataFrame.\n",
      "Skipping 136_02.MOV: ID 136 and Phase 2 already in DataFrame.\n",
      "Skipping 330_02.MOV: ID 330 and Phase 2 already in DataFrame.\n",
      "Skipping 283_02.MOV: ID 283 and Phase 2 already in DataFrame.\n",
      "Error: Could not open video '59_01.MOV' (moov atom not found).\n",
      "Skipping 183_02.MOV: ID 183 and Phase 2 already in DataFrame.\n"
     ]
    },
    {
     "name": "stderr",
     "output_type": "stream",
     "text": [
      "[mov,mp4,m4a,3gp,3g2,mj2 @ 0x55d136e78380] moov atom not found\n",
      "W0000 00:00:1731315667.736602   42336 inference_feedback_manager.cc:114] Feedback manager requires a model with a single signature inference. Disabling support for feedback tensors.\n"
     ]
    },
    {
     "name": "stdout",
     "output_type": "stream",
     "text": [
      "RMSSD: 1.87\n",
      "Added: {'ID': 193.0, 'Phase': 1.0, 'HRV': 1.868772347149339}\n"
     ]
    },
    {
     "name": "stderr",
     "output_type": "stream",
     "text": [
      "W0000 00:00:1731316034.824434   42385 inference_feedback_manager.cc:114] Feedback manager requires a model with a single signature inference. Disabling support for feedback tensors.\n"
     ]
    },
    {
     "name": "stdout",
     "output_type": "stream",
     "text": [
      "RMSSD: 1.44\n",
      "Added: {'ID': 228.0, 'Phase': 2.0, 'HRV': 1.441862456214902}\n"
     ]
    },
    {
     "name": "stderr",
     "output_type": "stream",
     "text": [
      "[mov,mp4,m4a,3gp,3g2,mj2 @ 0x55d136613400] moov atom not found\n"
     ]
    },
    {
     "name": "stdout",
     "output_type": "stream",
     "text": [
      "Error: Could not open video '26-02.MOV' (moov atom not found).\n"
     ]
    },
    {
     "name": "stderr",
     "output_type": "stream",
     "text": [
      "W0000 00:00:1731316132.425377   42400 inference_feedback_manager.cc:114] Feedback manager requires a model with a single signature inference. Disabling support for feedback tensors.\n"
     ]
    },
    {
     "name": "stdout",
     "output_type": "stream",
     "text": [
      "RMSSD: 1.49\n",
      "Added: {'ID': 113.0, 'Phase': 2.0, 'HRV': 1.4886563459604911}\n"
     ]
    },
    {
     "name": "stderr",
     "output_type": "stream",
     "text": [
      "W0000 00:00:1731316280.114256   42425 inference_feedback_manager.cc:114] Feedback manager requires a model with a single signature inference. Disabling support for feedback tensors.\n"
     ]
    },
    {
     "name": "stdout",
     "output_type": "stream",
     "text": [
      "RMSSD: 1.60\n",
      "Added: {'ID': 217.0, 'Phase': 1.0, 'HRV': 1.5954709579142732}\n"
     ]
    },
    {
     "name": "stderr",
     "output_type": "stream",
     "text": [
      "W0000 00:00:1731316481.030363   42455 inference_feedback_manager.cc:114] Feedback manager requires a model with a single signature inference. Disabling support for feedback tensors.\n"
     ]
    },
    {
     "name": "stdout",
     "output_type": "stream",
     "text": [
      "RMSSD: 2.06\n",
      "Added: {'ID': 313.0, 'Phase': 1.0, 'HRV': 2.0560875977783883}\n"
     ]
    },
    {
     "name": "stderr",
     "output_type": "stream",
     "text": [
      "W0000 00:00:1731316694.920190   42488 inference_feedback_manager.cc:114] Feedback manager requires a model with a single signature inference. Disabling support for feedback tensors.\n"
     ]
    },
    {
     "name": "stdout",
     "output_type": "stream",
     "text": [
      "RMSSD: 1.83\n",
      "Added: {'ID': 104.0, 'Phase': 2.0, 'HRV': 1.8264572648281892}\n"
     ]
    },
    {
     "name": "stderr",
     "output_type": "stream",
     "text": [
      "W0000 00:00:1731316802.729518   42511 inference_feedback_manager.cc:114] Feedback manager requires a model with a single signature inference. Disabling support for feedback tensors.\n"
     ]
    },
    {
     "name": "stdout",
     "output_type": "stream",
     "text": [
      "RMSSD: 1.74\n",
      "Added: {'ID': 218.0, 'Phase': 1.0, 'HRV': 1.7448933663665311}\n"
     ]
    },
    {
     "name": "stderr",
     "output_type": "stream",
     "text": [
      "W0000 00:00:1731317066.037204   42584 inference_feedback_manager.cc:114] Feedback manager requires a model with a single signature inference. Disabling support for feedback tensors.\n"
     ]
    },
    {
     "name": "stdout",
     "output_type": "stream",
     "text": [
      "RMSSD: 1.58\n",
      "Added: {'ID': 291.0, 'Phase': 1.0, 'HRV': 1.582946650519227}\n"
     ]
    },
    {
     "name": "stderr",
     "output_type": "stream",
     "text": [
      "W0000 00:00:1731317318.133999   42619 inference_feedback_manager.cc:114] Feedback manager requires a model with a single signature inference. Disabling support for feedback tensors.\n"
     ]
    },
    {
     "name": "stdout",
     "output_type": "stream",
     "text": [
      "RMSSD: 1.50\n",
      "Added: {'ID': 226.0, 'Phase': 1.0, 'HRV': 1.5027648113033734}\n",
      "Data saved to 'processed_videos.csv' after processing 730 files.\n"
     ]
    },
    {
     "name": "stderr",
     "output_type": "stream",
     "text": [
      "W0000 00:00:1731317544.332630   42651 inference_feedback_manager.cc:114] Feedback manager requires a model with a single signature inference. Disabling support for feedback tensors.\n"
     ]
    },
    {
     "name": "stdout",
     "output_type": "stream",
     "text": [
      "RMSSD: 1.63\n",
      "Added: {'ID': 117.0, 'Phase': 2.0, 'HRV': 1.6250156454505646}\n"
     ]
    },
    {
     "name": "stderr",
     "output_type": "stream",
     "text": [
      "W0000 00:00:1731317664.019520   42675 inference_feedback_manager.cc:114] Feedback manager requires a model with a single signature inference. Disabling support for feedback tensors.\n"
     ]
    },
    {
     "name": "stdout",
     "output_type": "stream",
     "text": [
      "RMSSD: 1.55\n",
      "Added: {'ID': 284.0, 'Phase': 2.0, 'HRV': 1.5458794682208412}\n"
     ]
    },
    {
     "name": "stderr",
     "output_type": "stream",
     "text": [
      "[mov,mp4,m4a,3gp,3g2,mj2 @ 0x55d1361e2940] moov atom not found\n"
     ]
    },
    {
     "name": "stdout",
     "output_type": "stream",
     "text": [
      "Error: Could not open video '46_02.MOV' (moov atom not found).\n"
     ]
    },
    {
     "name": "stderr",
     "output_type": "stream",
     "text": [
      "W0000 00:00:1731317785.932793   42699 inference_feedback_manager.cc:114] Feedback manager requires a model with a single signature inference. Disabling support for feedback tensors.\n"
     ]
    },
    {
     "name": "stdout",
     "output_type": "stream",
     "text": [
      "RMSSD: 1.24\n",
      "Added: {'ID': 278.0, 'Phase': 1.0, 'HRV': 1.2422236739734807}\n"
     ]
    },
    {
     "name": "stderr",
     "output_type": "stream",
     "text": [
      "W0000 00:00:1731318079.637192   42738 inference_feedback_manager.cc:114] Feedback manager requires a model with a single signature inference. Disabling support for feedback tensors.\n"
     ]
    },
    {
     "name": "stdout",
     "output_type": "stream",
     "text": [
      "RMSSD: 1.59\n",
      "Added: {'ID': 223.0, 'Phase': 1.0, 'HRV': 1.5855058446086912}\n"
     ]
    },
    {
     "name": "stderr",
     "output_type": "stream",
     "text": [
      "W0000 00:00:1731318293.326065   42770 inference_feedback_manager.cc:114] Feedback manager requires a model with a single signature inference. Disabling support for feedback tensors.\n"
     ]
    },
    {
     "name": "stdout",
     "output_type": "stream",
     "text": [
      "RMSSD: 1.47\n",
      "Added: {'ID': 103.0, 'Phase': 1.0, 'HRV': 1.4680536265760973}\n",
      "Error: Could not open video '40_01.MOV' (moov atom not found).\n"
     ]
    },
    {
     "name": "stderr",
     "output_type": "stream",
     "text": [
      "[mov,mp4,m4a,3gp,3g2,mj2 @ 0x55d1370fea00] moov atom not found\n"
     ]
    },
    {
     "name": "stdout",
     "output_type": "stream",
     "text": [
      "Final data saved to 'processed_videos.csv'.\n",
      "      ID  Phase       HRV\n",
      "0    168      2  1.347618\n",
      "1    246      1  1.571045\n",
      "2    175      1  1.601651\n",
      "3    135      1  1.843167\n",
      "4    312      2  1.648120\n",
      "..   ...    ...       ...\n",
      "630  117      2  1.625016\n",
      "631  284      2  1.545879\n",
      "632  278      1  1.242224\n",
      "633  223      1  1.585506\n",
      "634  103      1  1.468054\n",
      "\n",
      "[635 rows x 3 columns]\n",
      "\n",
      "Files that encountered errors and were not added to the DataFrame:\n",
      "- 48_01.MOV (moov atom not found)\n",
      "- 62_01.MOV (moov atom not found)\n",
      "- 30_01.MOV (moov atom not found)\n",
      "- 77_01.MOV (moov atom not found)\n",
      "- 51_03.MOV (moov atom not found)\n",
      "- 77_03.MOV (moov atom not found)\n",
      "- 31_02.MOV (moov atom not found)\n",
      "- 60_02.MOV (moov atom not found)\n",
      "- 56_01.MOV (moov atom not found)\n",
      "- 59_02.MOV (moov atom not found)\n",
      "- 82_01.MOV (processing error: `distance` must be greater or equal to 1)\n",
      "- 29_01.MOV (moov atom not found)\n",
      "- 79_02.MOV (moov atom not found)\n",
      "- 53_02.MOV (moov atom not found)\n",
      "- 21-01.MOV (moov atom not found)\n",
      "- 44_01.MOV (moov atom not found)\n",
      "- 52_01.MOV (moov atom not found)\n",
      "- 58_03.MOV (moov atom not found)\n",
      "- 55_01.MOV (moov atom not found)\n",
      "- 33_02.MOV (moov atom not found)\n",
      "- 67_03.MOV (moov atom not found)\n",
      "- 79_03.MOV (moov atom not found)\n",
      "- 58_01.MOV (moov atom not found)\n",
      "- 29_02.MOV (moov atom not found)\n",
      "- 39_01.MOV (moov atom not found)\n",
      "- 57_01.MOV (moov atom not found)\n",
      "- 42_01.MOV (moov atom not found)\n",
      "- 64_01.MOV (moov atom not found)\n",
      "- 66_01.MOV (moov atom not found)\n",
      "- 71_01.MOV (moov atom not found)\n",
      "- 48_02.MOV (moov atom not found)\n",
      "- 63_01.MOV (moov atom not found)\n",
      "- 70_01.MOV (moov atom not found)\n",
      "- 61_02.MOV (moov atom not found)\n",
      "- 60_01.MOV (moov atom not found)\n",
      "- 25-02.MOV (moov atom not found)\n",
      "- 30_02.MOV (moov atom not found)\n",
      "- 50_02.MOV (moov atom not found)\n",
      "- 24-02.MOV (moov atom not found)\n",
      "- 23-01.MOV (moov atom not found)\n",
      "- 46_01.MOV (moov atom not found)\n",
      "- 49_01.MOV (moov atom not found)\n",
      "- 72_02.MOV (moov atom not found)\n",
      "- 34_03.MOV (moov atom not found)\n",
      "- 43_02.MOV (moov atom not found)\n",
      "- 53_03.MOV (moov atom not found)\n",
      "- 21-02.MOV (moov atom not found)\n",
      "- 37_01.MOV (moov atom not found)\n",
      "- 67_01.MOV (moov atom not found)\n",
      "- 65_01.MOV (moov atom not found)\n",
      "- 66_02.MOV (moov atom not found)\n",
      "- 52_03.MOV (moov atom not found)\n",
      "- 42_02.MOV (moov atom not found)\n",
      "- 47_02.MOV (moov atom not found)\n",
      "- 64_03.MOV (moov atom not found)\n",
      "- 54_02.MOV (moov atom not found)\n",
      "- 39_03.MOV (moov atom not found)\n",
      "- 49_03.MOV (moov atom not found)\n",
      "- 25-01.MOV (moov atom not found)\n",
      "- 57_02.MOV (moov atom not found)\n",
      "- 34_01.MOV (moov atom not found)\n",
      "- 36_02.MOV (moov atom not found)\n",
      "- 62_02.MOV (moov atom not found)\n",
      "- 64_02.MOV (moov atom not found)\n",
      "- 50_01.MOV (moov atom not found)\n",
      "- 319_01.MOV (processing error: `distance` must be greater or equal to 1)\n",
      "- 44_02.MOV (moov atom not found)\n",
      "- 54_03.MOV (moov atom not found)\n",
      "- 37_02.MOV (moov atom not found)\n",
      "- 32_02.MOV (moov atom not found)\n",
      "- 35_01.MOV (moov atom not found)\n",
      "- 67_02.MOV (moov atom not found)\n",
      "- 29_03.MOV (moov atom not found)\n",
      "- 43_01.MOV (moov atom not found)\n",
      "- 56_02.MOV (moov atom not found)\n",
      "- 35_02.MOV (moov atom not found)\n",
      "- 69_01.MOV (moov atom not found)\n",
      "- 32_01.MOV (moov atom not found)\n",
      "- 45_03.MOV (moov atom not found)\n",
      "- 75_02.MOV (moov atom not found)\n",
      "- 45_01.MOV (moov atom not found)\n",
      "- 68_01.MOV (moov atom not found)\n",
      "- 52_02.MOV (moov atom not found)\n",
      "- 33_01.MOV (moov atom not found)\n",
      "- 39_02.MOV (moov atom not found)\n",
      "- 68_02.MOV (moov atom not found)\n",
      "- 10-02.MOV (insufficient BPM data)\n",
      "- 61_03.MOV (moov atom not found)\n",
      "- 65_02.MOV (moov atom not found)\n",
      "- 53_01.MOV (moov atom not found)\n",
      "- 51_02.MOV (moov atom not found)\n",
      "- 24-01.MOV (moov atom not found)\n",
      "- 31_01.MOV (moov atom not found)\n",
      "- 54_01.MOV (moov atom not found)\n",
      "- 78_02.MOV (moov atom not found)\n",
      "- 57_03.MOV (moov atom not found)\n",
      "- 59_01.MOV (moov atom not found)\n",
      "- 26-02.MOV (moov atom not found)\n",
      "- 46_02.MOV (moov atom not found)\n",
      "- 40_01.MOV (moov atom not found)\n"
     ]
    }
   ],
   "source": [
    "!pip install opencv-python-headless \n",
    "!pip install mediapipe \n",
    "!pip install --upgrade numexpr \n",
    "\n",
    "import cv2\n",
    "import mediapipe as mp\n",
    "import numpy as np\n",
    "import time\n",
    "from scipy import signal\n",
    "import pandas as pd\n",
    "import re\n",
    "import os\n",
    "import gc  \n",
    "\n",
    "# Define the path for storing the DataFrame\n",
    "df_path = \"processed_videos.csv\"\n",
    "\n",
    "# Load the DataFrame if it exists; otherwise, create an empty one\n",
    "if os.path.exists(df_path):\n",
    "    df = pd.read_csv(df_path)\n",
    "    print(f\"Loaded existing DataFrame with {len(df)} entries.\")\n",
    "else:\n",
    "    df = pd.DataFrame(columns=[\"ID\", \"Phase\", \"HRV\"])\n",
    "    print(\"Created a new empty DataFrame.\")\n",
    "\n",
    "# List to track files that encountered errors\n",
    "error_files = []\n",
    "\n",
    "# Directory containing video files\n",
    "video_directory = \"videos\"\n",
    "\n",
    "# Define the heart rate estimation class\n",
    "class HeartRateEstimator:\n",
    "    def __init__(self, buffer_size=150):\n",
    "        self.buffer_size = buffer_size\n",
    "        self.data_buffer = []  # Stores green channel intensity over time\n",
    "        self.times = []  # Stores timestamps of the frames\n",
    "        self.t0 = time.time()  # Start time for frame timestamps\n",
    "\n",
    "    def extract_green_channel(self, frame):\n",
    "        green_mean = np.mean(frame[:, :, 1])\n",
    "        return green_mean\n",
    "\n",
    "    def process_frame(self, frame):\n",
    "        green_value = self.extract_green_channel(frame)\n",
    "        self.times.append(time.time() - self.t0)\n",
    "        self.data_buffer.append(green_value)\n",
    "\n",
    "        # Only start processing when buffer is filled\n",
    "        if len(self.data_buffer) > self.buffer_size:\n",
    "            # Keep only the last `buffer_size` elements\n",
    "            self.data_buffer = self.data_buffer[-self.buffer_size:]\n",
    "            self.times = self.times[-self.buffer_size:]\n",
    "\n",
    "            # Estimate heart rate using the data buffer\n",
    "            bpm = self.estimate_heart_rate()\n",
    "            return bpm\n",
    "\n",
    "        return None\n",
    "\n",
    "    def estimate_heart_rate(self):\n",
    "        clean_data_buffer = np.array(self.data_buffer)\n",
    "        clean_data_buffer = clean_data_buffer[np.isfinite(clean_data_buffer)]\n",
    "        \n",
    "        if len(clean_data_buffer) < 2:\n",
    "            print(\"Not enough valid data points to estimate heart rate.\")\n",
    "            return 0\n",
    "        \n",
    "        L = len(clean_data_buffer)\n",
    "        fps = float(L) / (self.times[-1] - self.times[0])\n",
    "        detrended = signal.detrend(clean_data_buffer)\n",
    "        peaks, _ = signal.find_peaks(detrended, distance=fps * 0.6)\n",
    "\n",
    "        peak_times = np.array(self.times)[peaks]\n",
    "        rr_intervals = np.diff(peak_times)\n",
    "\n",
    "        if len(rr_intervals) > 0:\n",
    "            avg_rr_interval = np.mean(rr_intervals)\n",
    "            bpm = 60 / avg_rr_interval\n",
    "        else:\n",
    "            bpm = 0\n",
    "\n",
    "        return bpm\n",
    "\n",
    "# Define the face detection class\n",
    "class FaceDetection:\n",
    "    def __init__(self):\n",
    "        self.face_detection = mp.solutions.face_detection.FaceDetection(model_selection=1, min_detection_confidence=0.5)\n",
    "\n",
    "    def detect_face(self, frame):\n",
    "        frame_rgb = cv2.cvtColor(frame, cv2.COLOR_BGR2RGB)\n",
    "        results = self.face_detection.process(frame_rgb)\n",
    "\n",
    "        if results.detections:\n",
    "            for detection in results.detections:\n",
    "                bboxC = detection.location_data.relative_bounding_box\n",
    "                ih, iw, _ = frame.shape\n",
    "                x, y, w, h = int(bboxC.xmin * iw), int(bboxC.ymin * ih), int(bboxC.width * iw), int(bboxC.height * ih)\n",
    "                face_frame = frame[y:y + h, x:x + w]\n",
    "                return face_frame\n",
    "\n",
    "        return None \n",
    "\n",
    "# Function to calculate RMSSD\n",
    "def calculate_rmssd(bpm_series):\n",
    "    try:\n",
    "        hr_variability = np.diff(bpm_series)\n",
    "        squared_diffs = np.square(hr_variability)\n",
    "        mean_squared_diffs = np.mean(squared_diffs)\n",
    "        rmssd = np.sqrt(mean_squared_diffs)\n",
    "        return rmssd\n",
    "    except TypeError as e:\n",
    "        print(f\"Error calculating RMSSD: {e}\")\n",
    "        return None\n",
    "\n",
    "# Function to add an entry to the DataFrame\n",
    "def add_entry(ID, Phase, rmssd):\n",
    "    global df\n",
    "    # Check if this entry already exists in the DataFrame\n",
    "    if not ((df[\"ID\"] == ID) & (df[\"Phase\"] == Phase)).any():\n",
    "        new_entry = pd.DataFrame([{\"ID\": ID, \"Phase\": Phase, \"HRV\": rmssd}])\n",
    "        df = pd.concat([df, new_entry], ignore_index=True)\n",
    "        print(f\"Added: {new_entry.iloc[0].to_dict()}\")\n",
    "    else:\n",
    "        print(f\"Entry with ID {ID} and Phase {Phase} already exists. Skipping.\")\n",
    "\n",
    "# Process each video file in the directory in batches\n",
    "error_files = []\n",
    "for idx, filename in enumerate(os.listdir(video_directory)):\n",
    "    if filename.endswith(\".MOV\"):\n",
    "        # Parse ID and Phase from the filename using regex that matches both \"-\" and \"_\" separators\n",
    "        match = re.match(r\"(\\d+)[-_](\\d+)\\.MOV\", filename)\n",
    "        if match:\n",
    "            ID = int(match.group(1))\n",
    "            Phase = int(match.group(2))\n",
    "\n",
    "            # Check if this file's data is already in the DataFrame to avoid re-processing\n",
    "            if ((df[\"ID\"] == ID) & (df[\"Phase\"] == Phase)).any():\n",
    "                print(f\"Skipping {filename}: ID {ID} and Phase {Phase} already in DataFrame.\")\n",
    "                continue  # Skip this file if already processed\n",
    "\n",
    "            file_path = os.path.join(video_directory, filename)\n",
    "            try:\n",
    "                if os.path.exists(file_path):\n",
    "                    cap = cv2.VideoCapture(file_path)\n",
    "                    if not cap.isOpened():\n",
    "                        # Log the filename that causes the \"moov atom not found\" error\n",
    "                        print(f\"Error: Could not open video '{filename}' (moov atom not found).\")\n",
    "                        error_files.append(f\"{filename} (moov atom not found)\")\n",
    "                        continue\n",
    "                    \n",
    "                    estimator = HeartRateEstimator()\n",
    "                    face_detector = FaceDetection()\n",
    "                    bpm_series = []\n",
    "\n",
    "                    while cap.isOpened():\n",
    "                        ret, frame = cap.read()\n",
    "                        if not ret:\n",
    "                            break\n",
    "\n",
    "                        face_frame = face_detector.detect_face(frame)\n",
    "                        if face_frame is not None:\n",
    "                            bpm = estimator.process_frame(face_frame)\n",
    "                            if bpm is not None:\n",
    "                                bpm_series.append(bpm)\n",
    "\n",
    "                    cap.release()\n",
    "\n",
    "                    if len(bpm_series) > 1:\n",
    "                        rmssd = calculate_rmssd(bpm_series)\n",
    "                        if rmssd is not None:\n",
    "                            print(f\"RMSSD: {rmssd:.2f}\")\n",
    "                            add_entry(ID, Phase, rmssd)\n",
    "                        else:\n",
    "                            print(\"Unable to calculate RMSSD.\")\n",
    "                            error_files.append(f\"{filename} (RMSSD calculation failed)\")\n",
    "                    else:\n",
    "                        print(\"Not enough BPM data to calculate RMSSD.\")\n",
    "                        error_files.append(f\"{filename} (insufficient BPM data)\")\n",
    "                else:\n",
    "                    print(f\"Video file '{file_path}' does not exist.\")\n",
    "                    error_files.append(f\"{filename} (file not found)\")\n",
    "            \n",
    "            except Exception as e:\n",
    "                print(f\"An error occurred while processing '{filename}': {e}\")\n",
    "                error_files.append(f\"{filename} (processing error: {e})\")\n",
    "        \n",
    "            # Clear memory by deleting large objects after each file\n",
    "            try:\n",
    "                del cap, estimator, face_detector, bpm_series\n",
    "            except NameError:\n",
    "                pass  # If any variable wasn't defined, just skip deleting it.\n",
    "            \n",
    "            gc.collect()  # Run garbage collection to free memory\n",
    "\n",
    "            # Save periodically after every 10 files\n",
    "            if (idx + 1) % 10 == 0:\n",
    "                df.to_csv(df_path, index=False)\n",
    "                print(f\"Data saved to '{df_path}' after processing {idx + 1} files.\")\n",
    "\n",
    "# Final save of the DataFrame\n",
    "df.to_csv(df_path, index=False)\n",
    "print(f\"Final data saved to '{df_path}'.\")\n",
    "\n",
    "# Display the DataFrame and list of error files\n",
    "print(df)\n",
    "if error_files:\n",
    "    print(\"\\nFiles that encountered errors and were not added to the DataFrame:\")\n",
    "    for error_file in error_files:\n",
    "        print(f\"- {error_file}\")\n",
    "else:\n",
    "    print(\"\\nAll files processed successfully.\")\n"
   ]
  },
  {
   "cell_type": "code",
   "execution_count": null,
   "id": "231b8980-f1b6-439a-8d59-13a0a2eeffc1",
   "metadata": {},
   "outputs": [],
   "source": []
  }
 ],
 "metadata": {
  "kernelspec": {
   "display_name": "Python 3 (ipykernel)",
   "language": "python",
   "name": "python3"
  },
  "language_info": {
   "codemirror_mode": {
    "name": "ipython",
    "version": 3
   },
   "file_extension": ".py",
   "mimetype": "text/x-python",
   "name": "python",
   "nbconvert_exporter": "python",
   "pygments_lexer": "ipython3",
   "version": "3.10.13"
  }
 },
 "nbformat": 4,
 "nbformat_minor": 5
}
