{
 "cells": [
  {
   "cell_type": "code",
   "execution_count": 7,
   "id": "b308a397-0cda-4273-b10e-e0bbf9921c29",
   "metadata": {},
   "outputs": [
    {
     "name": "stdout",
     "output_type": "stream",
     "text": [
      "T-Test for Gender (Male) - Low VVR vs. High VVR:\n",
      "T-Statistic: 2.023768651135634\n",
      "\n",
      "T-Test for Gender (Female) - Low VVR vs. High VVR:\n",
      "T-Statistic: 1.1488082011486989\n",
      "\n",
      "T-Test for Age - Low VVR vs. High VVR:\n",
      "T-Statistic: 2.0090514532447483\n"
     ]
    }
   ],
   "source": [
    "import pandas as pd\n",
    "from scipy.stats import ttest_ind\n",
    "\n",
    "# Load the data\n",
    "data = pd.read_csv('End_dataframe.csv')\n",
    "\n",
    "# Group by Participant_ID and aggregate data\n",
    "aggregated_data = data.groupby('ID').agg({\n",
    "    'Gender': 'first',  # Assume gender is constant for each participant\n",
    "    'Age': 'first',     # Assume age is constant for each participant\n",
    "    'VVR_Encoded': 'max'  # If either row has high VVR, classify as high\n",
    "}).reset_index()\n",
    "\n",
    "# Separate groups based on aggregated vasovagal reactions (0 = low, 1 = high)\n",
    "low_vvr_group = aggregated_data[aggregated_data['VVR_Encoded'] == 0]\n",
    "high_vvr_group = aggregated_data[aggregated_data['VVR_Encoded'] == 1]\n",
    "\n",
    "# Separate gender groups\n",
    "male_group = aggregated_data[aggregated_data['Gender'] == 1]\n",
    "female_group = aggregated_data[aggregated_data['Gender'] == 2]\n",
    "\n",
    "# Perform t-test for Gender (Male/Female)\n",
    "ttest_male = ttest_ind(\n",
    "    male_group[male_group['VVR_Encoded'] == 0]['Age'],\n",
    "    male_group[male_group['VVR_Encoded'] == 1]['Age'],\n",
    "    equal_var=False  # Use Welch's t-test if variance is unequal\n",
    ")\n",
    "ttest_female = ttest_ind(\n",
    "    female_group[female_group['VVR_Encoded'] == 0]['Age'],\n",
    "    female_group[female_group['VVR_Encoded'] == 1]['Age'],\n",
    "    equal_var=False\n",
    ")\n",
    "\n",
    "# Perform t-test for Age (Low VVR vs. High VVR)\n",
    "ttest_age = ttest_ind(\n",
    "    low_vvr_group['Age'],\n",
    "    high_vvr_group['Age'],\n",
    "    equal_var=False\n",
    ")\n",
    "\n",
    "# Print the t-test results\n",
    "print('T-Test for Gender (Male) - Low VVR vs. High VVR:')\n",
    "print(\"T-Statistic:\", ttest_male.statistic)\n",
    "\n",
    "print('\\nT-Test for Gender (Female) - Low VVR vs. High VVR:')\n",
    "print('T-Statistic:', ttest_female.statistic)\n",
    "\n",
    "print('\\nT-Test for Age - Low VVR vs. High VVR:')\n",
    "print('T-Statistic:', ttest_age.statistic)\n"
   ]
  },
  {
   "cell_type": "code",
   "execution_count": 9,
   "id": "6613972e-0f6a-461d-a361-a247680409a0",
   "metadata": {},
   "outputs": [
    {
     "name": "stdout",
     "output_type": "stream",
     "text": [
      "Standard Deviation (Low VVR): 0.3275031320440732\n",
      "Standard Deviation (High VVR): 0.5017567482042767\n",
      "T-Statistic: -4.814929202261541\n"
     ]
    }
   ],
   "source": [
    "import pandas as pd\n",
    "from scipy import stats\n",
    "\n",
    "# Read the data from CSV file\n",
    "data = pd.read_csv('End_dataframe.csv')\n",
    "\n",
    "# Group by Participant_ID to ensure unique participants\n",
    "aggregated_data = data.groupby('ID').agg({\n",
    "    'Prior_Donation': 'first',  # Assume prior donation status is constant for a participant\n",
    "    'VVR_Encoded': 'max'       # Assume any high VVR classifies as high for a participant\n",
    "}).reset_index()\n",
    "\n",
    "# Separate data for low VVR and high VVR groups based on 'Prior_Donation'\n",
    "low_vvr_data = aggregated_data[aggregated_data['Prior_Donation'] == 1]['VVR_Encoded']\n",
    "high_vvr_data = aggregated_data[aggregated_data['Prior_Donation'] == 2]['VVR_Encoded']\n",
    "\n",
    "# Calculate standard deviation for low VVR and high VVR\n",
    "low_vvr_sd = low_vvr_data.std()\n",
    "high_vvr_sd = high_vvr_data.std()\n",
    "\n",
    "# Perform t-test for independent samples\n",
    "t_statistic, p_value = stats.ttest_ind(low_vvr_data, high_vvr_data, equal_var=False)  # Welch's t-test\n",
    "\n",
    "# Print the results\n",
    "print('Standard Deviation (Low VVR):', low_vvr_sd)\n",
    "print('Standard Deviation (High VVR):', high_vvr_sd)\n",
    "print('T-Statistic:', t_statistic)\n"
   ]
  },
  {
   "cell_type": "code",
   "execution_count": 2,
   "id": "7760da1b-17b1-46f3-9335-3ac2f15f7f2e",
   "metadata": {},
   "outputs": [
    {
     "name": "stdout",
     "output_type": "stream",
     "text": [
      "Count for Male (1) with Low VVR (0): 103\n",
      "Count for Male (1) with High VVR (1): 29\n"
     ]
    }
   ],
   "source": [
    "import pandas as pd\n",
    "\n",
    "# Load the data\n",
    "data = pd.read_csv(\"End_dataframe.csv\")\n",
    "\n",
    "# Group by Participant_ID and aggregate Gender and VVR_Encoded\n",
    "unique_participants = data.groupby(\"ID\").agg({\n",
    "    \"Gender\": \"first\",  # Assuming gender is constant for each participant\n",
    "    \"VVR_Encoded\": \"max\"  # Assuming we want to count if they ever had a high VVR\n",
    "}).reset_index()\n",
    "\n",
    "# Compute counts\n",
    "male_low_vvr_count = len(unique_participants[(unique_participants[\"Gender\"] == 1) & (unique_participants[\"VVR_Encoded\"] == 0)])\n",
    "male_high_vvr_count = len(unique_participants[(unique_participants[\"Gender\"] == 1) & (unique_participants[\"VVR_Encoded\"] == 1)])\n",
    "\n",
    "print(\"Count for Male (1) with Low VVR (0):\", male_low_vvr_count)\n",
    "print(\"Count for Male (1) with High VVR (1):\", male_high_vvr_count)\n"
   ]
  },
  {
   "cell_type": "code",
   "execution_count": 1,
   "id": "573db9cb-2838-45b1-90f0-53c48c6b9894",
   "metadata": {},
   "outputs": [
    {
     "name": "stderr",
     "output_type": "stream",
     "text": [
      "/opt/conda/lib/python3.10/site-packages/pandas/core/computation/expressions.py:21: UserWarning: Pandas requires version '2.8.4' or newer of 'numexpr' (version '2.7.3' currently installed).\n",
      "  from pandas.core.computation.check import NUMEXPR_INSTALLED\n"
     ]
    },
    {
     "name": "stdout",
     "output_type": "stream",
     "text": [
      "Count for Female (2) with Low VVR (0): 126\n",
      "Count for Female (2) with High VVR (1): 64\n"
     ]
    }
   ],
   "source": [
    "import pandas as pd\n",
    "\n",
    "# Read the data\n",
    "data = pd.read_csv(\"End_dataframe.csv\")\n",
    "\n",
    "# Group by Participant_ID and aggregate Gender and VVR_Encoded\n",
    "aggregated_data = data.groupby(\"ID\").agg({\n",
    "    \"Gender\": \"first\",  # Assuming gender is constant for each participant\n",
    "    \"VVR_Encoded\": \"max\"  # Assuming we want to count if they ever had a high VVR\n",
    "}).reset_index()\n",
    "\n",
    "# Compute counts for unique participants\n",
    "female_low_vvr_count = len(aggregated_data[(aggregated_data[\"Gender\"] == 2) & (aggregated_data[\"VVR_Encoded\"] == 0)])\n",
    "female_high_vvr_count = len(aggregated_data[(aggregated_data[\"Gender\"] == 2) & (aggregated_data[\"VVR_Encoded\"] == 1)])\n",
    "\n",
    "# Print the results\n",
    "print(\"Count for Female (2) with Low VVR (0):\", female_low_vvr_count)\n",
    "print(\"Count for Female (2) with High VVR (1):\", female_high_vvr_count)\n"
   ]
  },
  {
   "cell_type": "code",
   "execution_count": 16,
   "id": "53c54a64-0e1b-40da-ad66-2002cdd53e14",
   "metadata": {},
   "outputs": [
    {
     "name": "stdout",
     "output_type": "stream",
     "text": [
      "Mean (M) of Age for Low VVR (0): 37.12719298245614\n",
      "Standard Deviation (SD) of Age for Low VVR (0): 13.597166791366186\n",
      "Mean (M) of Age for High VVR (1): 33.83870967741935\n",
      "Standard Deviation (SD) of Age for High VVR (1): 13.384544386814012\n"
     ]
    }
   ],
   "source": [
    "Age_low_vvr_mean = np.mean(data[data[\"VVR_Encoded\"] == 0][\"Age\"])\n",
    "Age_low_vvr_std = np.std(data[data[\"VVR_Encoded\"] == 0][\"Age\"])\n",
    "\n",
    "Age_high_vvr_mean = np.mean(data[data[\"VVR_Encoded\"] == 1][\"Age\"])\n",
    "Age_high_vvr_std = np.std(data[data[\"VVR_Encoded\"] == 1][\"Age\"])\n",
    "\n",
    "print(\"Mean (M) of Age for Low VVR (0):\", Age_low_vvr_mean)\n",
    "print(\"Standard Deviation (SD) of Age for Low VVR (0):\", Age_low_vvr_std)\n",
    "print(\"Mean (M) of Age for High VVR (1):\", Age_high_vvr_mean)\n",
    "print(\"Standard Deviation (SD) of Age for High VVR (1):\", Age_high_vvr_std)"
   ]
  },
  {
   "cell_type": "code",
   "execution_count": 19,
   "id": "84ffdd49-763e-48d3-a401-865d3dd056bb",
   "metadata": {},
   "outputs": [
    {
     "data": {
      "image/png": "[encoded data removed]",
      "text/plain": [
       "<Figure size 1200x600 with 1 Axes>"
      ]
     },
     "metadata": {},
     "output_type": "display_data"
    }
   ],
   "source": [
    "import pandas as pd\n",
    "import matplotlib.pyplot as plt\n",
    "\n",
    "vasovagal = data[\"VVR_sum\"]\n",
    "\n",
    "# Calculate the counts for each VVR score\n",
    "score_counts = vasovagal.value_counts().sort_index()\n",
    "\n",
    "# Create the bar graph with improved styling\n",
    "plt.figure(figsize=(12, 6))  # Adjust the figure size\n",
    "plt.bar(score_counts.index, score_counts.values, align='center', color='skyblue', edgecolor='black', alpha=0.8)\n",
    "plt.xlabel(\"Sum of VVR Scores (Stages 4 to 7)\", fontsize=12)\n",
    "plt.ylabel(\"Counts\", fontsize=12)\n",
    "plt.title(\"Distribution of VVR Scores\", fontsize=14, fontweight='bold')\n",
    "\n",
    "# Add a vertical line at the cutoff with annotation\n",
    "cutoff = 40\n",
    "plt.axvline(x=cutoff - 0.5, color='red', linestyle='--', linewidth=2)\n",
    "plt.text(cutoff, max(score_counts.values) * 0.9, 'Cutoff = 40', color='red', fontsize=10, rotation=0)\n",
    "\n",
    "# Customize the grid and ticks\n",
    "plt.grid(axis='y', linestyle='--', alpha=0.7)\n",
    "plt.yticks(fontsize=10)\n",
    "\n",
    "# Save the graph to a PDF\n",
    "plt.tight_layout()  # Ensures everything fits within the figure\n",
    "plt.savefig(\"VVR_Score_Distribution.pdf\", bbox_inches='tight')\n",
    "\n",
    "# Display the graph\n",
    "plt.show()\n"
   ]
  }
 ],
 "metadata": {
  "kernelspec": {
   "display_name": "Python 3 (ipykernel)",
   "language": "python",
   "name": "python3"
  },
  "language_info": {
   "codemirror_mode": {
    "name": "ipython",
    "version": 3
   },
   "file_extension": ".py",
   "mimetype": "text/x-python",
   "name": "python",
   "nbconvert_exporter": "python",
   "pygments_lexer": "ipython3",
   "version": "3.10.13"
  }
 },
 "nbformat": 4,
 "nbformat_minor": 5
}
